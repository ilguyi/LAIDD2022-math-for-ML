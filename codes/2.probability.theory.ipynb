{
 "cells": [
  {
   "cell_type": "code",
   "execution_count": null,
   "id": "8f27a8ba-25f1-4ae5-83ef-857898c22bcd",
   "metadata": {
    "ExecuteTime": {
     "end_time": "2022-08-10T09:02:33.430350Z",
     "start_time": "2022-08-10T09:02:32.788250Z"
    }
   },
   "outputs": [],
   "source": [
    "import torch\n",
    "import torch.nn as nn\n",
    "import torch.optim as optim\n",
    "import numpy as np\n",
    "import matplotlib.pyplot as plt\n",
    "\n",
    "from copy import deepcopy\n",
    "from collections import defaultdict, Counter\n",
    "from itertools import chain, combinations"
   ]
  },
  {
   "cell_type": "code",
   "execution_count": null,
   "id": "8a764449-2692-4766-878e-61219f2755c8",
   "metadata": {
    "ExecuteTime": {
     "end_time": "2022-08-10T09:02:34.223994Z",
     "start_time": "2022-08-10T09:02:34.187104Z"
    }
   },
   "outputs": [],
   "source": [
    "torch.backends.mps.is_available()"
   ]
  },
  {
   "cell_type": "markdown",
   "id": "608ceee0-20dc-46a7-bce5-e48cad370239",
   "metadata": {},
   "source": [
    "# Random Variables\n",
    "## Probability Space\n",
    "\n",
    "* The sample space $\\Omega$: the set of all possible outcomes of the experiment\n",
    "  * Ex.) $\\Omega$ of two successive coin tosses: $\\{ HH, HT, TH, TT \\}$\n",
    "* The event space $\\mathcal{F}$: the set of events (the power set of $\\Omega$: $2^{\\Omega}$)\n",
    "  * event: the subset of the sample space $\\Omega$\n",
    "* The probability or probability measure $P$: each event $A \\in \\mathcal{F}$, $P(A)$ measures the probability or degree of belief that the event will occur\n",
    "  * $P(A)$ is called the probability of $A$\n",
    "* These three properties are called the **Axioms of Probability**"
   ]
  },
  {
   "cell_type": "code",
   "execution_count": null,
   "id": "db270539-63e4-40db-be3a-bb916e3f81c2",
   "metadata": {},
   "outputs": [],
   "source": [
    "np.random.seed(219)\n",
    "np.set_printoptions(precision=4)"
   ]
  },
  {
   "cell_type": "code",
   "execution_count": null,
   "id": "f05ef097-d25b-4598-b7c8-3915b3929fe1",
   "metadata": {},
   "outputs": [],
   "source": [
    "def powerset(iterable):\n",
    "  \"powerset([1,2,3]) --> () (1,) (2,) (3,) (1,2) (1,3) (2,3) (1,2,3)\"\n",
    "  s = list(iterable)\n",
    "  ps = list(chain.from_iterable(combinations(s, r) for r in range(len(s)+1)))\n",
    "  ps = [set(elem) for elem in ps]\n",
    "  return ps"
   ]
  },
  {
   "cell_type": "code",
   "execution_count": null,
   "id": "be343fa3-d079-44e7-a0ba-1af1a8d19c1e",
   "metadata": {},
   "outputs": [],
   "source": [
    "def probability_measure(event_space, event):\n",
    "  assert event in event_space\n",
    "  size_of_sample_space = len(max(event_space))\n",
    "  return len(event) / size_of_sample_space"
   ]
  },
  {
   "cell_type": "code",
   "execution_count": null,
   "id": "cab6a840-5abd-4d32-9ffd-5d83d97c3c5b",
   "metadata": {},
   "outputs": [],
   "source": [
    "# sample_space = {f'{i}{j}' for i in ['H', 'T'] for j in ['H', 'T']}\n",
    "# sample_space = {f'{i}{j}{k}' for i in ['H', 'T'] for j in ['H', 'T'] for k in ['H', 'T']}\n",
    "sample_space = {f'{i}{j}' for i in ['H', 'T'] for j in range(1, 7)}\n",
    "print(sample_space)"
   ]
  },
  {
   "cell_type": "code",
   "execution_count": null,
   "id": "f2892ad1-f4dd-47a4-b17d-19eb014759b3",
   "metadata": {},
   "outputs": [],
   "source": [
    "event_space = powerset(sample_space)\n",
    "print(len(event_space))"
   ]
  },
  {
   "cell_type": "code",
   "execution_count": null,
   "id": "aec1a344-6f39-4c32-92c6-4e5ae8d8a824",
   "metadata": {},
   "outputs": [],
   "source": [
    "probability_measure(event_space, {'HH', 'HT', 'TH'})"
   ]
  },
  {
   "cell_type": "code",
   "execution_count": null,
   "id": "ad0d7988-444f-427f-a573-ee6749378f9e",
   "metadata": {},
   "outputs": [],
   "source": [
    "probability_measure(event_space, {'HHH', 'HTH', 'THT'})"
   ]
  },
  {
   "cell_type": "markdown",
   "id": "c0734560-597f-4bb5-9d2c-9100bb823196",
   "metadata": {},
   "source": [
    "Probability measure\n",
    "\n",
    "$P(\\cup_{i=1}^{\\infty} A_{i}) = \\Sigma{}_{i=1}^{\\infty} P(A_{i})$, if $A_{1}, A_{2}, \\ldots$ are events that are *mutually exclusive*"
   ]
  },
  {
   "cell_type": "code",
   "execution_count": null,
   "id": "7e13243d-b0e5-498b-85d5-27291f263321",
   "metadata": {},
   "outputs": [],
   "source": [
    "probability_measure(event_space, {'HH', 'TH'}) + probability_measure(event_space, {'HT'})"
   ]
  },
  {
   "cell_type": "markdown",
   "id": "88da0fd1-597e-42eb-8dc3-e5f67624dd4c",
   "metadata": {},
   "source": [
    "## Random Variables\n",
    "\n",
    "* **Definition**: Given a probability space $(\\Omega, \\mathcal{F}, P)$, let $\\Omega$ be a sample space and let $X: \\Omega \\rightarrow \\mathbb{R}$ be a function from the sample space to the real line. Then $X$ is called a *random variable*\n",
    "  * Notation: upper case letters $X(\\omega)$ or more simply $X$\n",
    "    * Random variables depend on random outcome $\\omega$\n",
    "* Ex.) two successive coin tosses, $X$: counting the number of heads\n",
    "  * $\\Omega = \\{ HH, HT, TH, TT \\}$\n",
    "  * $X(HH) = 2, \\ X(HT) = 1, \\ X(TH) = 1, \\ X(TT) = 0$"
   ]
  },
  {
   "cell_type": "code",
   "execution_count": null,
   "id": "d375e49a-0d40-408b-a9bf-faf9f867c02e",
   "metadata": {},
   "outputs": [],
   "source": [
    "sample_space = {f'{i}{j}' for i in ['H', 'T'] for j in ['H', 'T']}"
   ]
  },
  {
   "cell_type": "code",
   "execution_count": null,
   "id": "47d6776b-8a18-4e1c-b321-8e5ccbb4489b",
   "metadata": {},
   "outputs": [],
   "source": [
    "def random_variable_X(sample_space, event):\n",
    "  # X: the number of heads\n",
    "  assert event in sample_space\n",
    "  return event.count('H')"
   ]
  },
  {
   "cell_type": "code",
   "execution_count": null,
   "id": "413cb298-f296-4338-ae2b-198611da28fc",
   "metadata": {},
   "outputs": [],
   "source": [
    "event = 'HH'\n",
    "print(f'random variable X of event {event}: {random_variable_X(sample_space, event)}')"
   ]
  },
  {
   "cell_type": "markdown",
   "id": "874acd1b-9cb0-449b-ac4e-762230ad2f52",
   "metadata": {},
   "source": [
    "### Probability of random variables\n",
    "\n",
    "* Consider triple successive coin tosses\n",
    "  * $\\Omega = \\{ HHH, \\, HHT, \\, HTH, \\, HTT, \\, THH, \\, THT, \\, TTH, \\, TTT \\}$\n",
    "  * Let $X$: the number of heads\n",
    "  * Let $Y$: head at first trial: 1 ; tail at first trial: 0\n",
    "  \n",
    "|   | HHH | HHT | HTH | HTT | THH | THT | TTH | TTT |\n",
    "|---|---|---|---|---|---|---|---|---|\n",
    "| $X$ | 3 | 2 | 2 | 1 | 2 | 1 | 1 | 0 |\n",
    "| $Y$ | 1 | 1 | 1 | 1 | 0 | 0 | 0 | 0 |\n",
    "| $P(\\omega)$ | 1/8 | 1/8 | 1/8 | 1/8 | 1/8 | 1/8 | 1/8 | 1/8 |"
   ]
  },
  {
   "cell_type": "code",
   "execution_count": null,
   "id": "e9ba1ea3-bb4f-4a65-96c6-a51c24419d0d",
   "metadata": {},
   "outputs": [],
   "source": [
    "def random_variable_X(sample_space, event):\n",
    "  # X: the number of heads\n",
    "  assert event in sample_space\n",
    "  return event.count('H')"
   ]
  },
  {
   "cell_type": "code",
   "execution_count": null,
   "id": "41724ac5-bf8d-48a1-98f2-f1d7f00da890",
   "metadata": {},
   "outputs": [],
   "source": [
    "def random_variable_Y(sample_space, event):\n",
    "  # Y: head at first trial: 1; tail at first trial: 0\n",
    "  assert event in sample_space\n",
    "  return 1 if event[0] == 'H' else 0"
   ]
  },
  {
   "cell_type": "code",
   "execution_count": null,
   "id": "b3baad03-eda7-4632-bdf1-50e9312c0683",
   "metadata": {},
   "outputs": [],
   "source": [
    "sample_space = {f'{i}{j}{k}' for i in ['H', 'T'] for j in ['H', 'T'] for k in ['H', 'T']}"
   ]
  },
  {
   "cell_type": "code",
   "execution_count": null,
   "id": "fb74f0b0-6d2e-4e28-8abb-e1c6d65b82f6",
   "metadata": {},
   "outputs": [],
   "source": [
    "sample_space"
   ]
  },
  {
   "cell_type": "code",
   "execution_count": null,
   "id": "2363fa28-9c7a-4b0f-92a9-ebb4421074bf",
   "metadata": {},
   "outputs": [],
   "source": [
    "event = 'TTH'\n",
    "print(f'random variable X of event {event}: {random_variable_X(sample_space, event)}')\n",
    "print(f'random variable Y of event {event}: {random_variable_Y(sample_space, event)}')"
   ]
  },
  {
   "cell_type": "code",
   "execution_count": null,
   "id": "6d2abd97-411a-46e1-ae70-16dcb6f8cb94",
   "metadata": {},
   "outputs": [],
   "source": [
    "# probability distribution of X\n",
    "PX = defaultdict(list)\n",
    "for event in sorted(list(sample_space)):\n",
    "  X = random_variable_X(sample_space, event)\n",
    "  print(f'{event}: {X}')\n",
    "  PX[X].append(event)"
   ]
  },
  {
   "cell_type": "code",
   "execution_count": null,
   "id": "0109f7f7-23c4-4540-ae56-4f8096c6fcfd",
   "metadata": {},
   "outputs": [],
   "source": [
    "# probability distribution of Y\n",
    "for event in sorted(list(sample_space)):\n",
    "  Y = random_variable_Y(sample_space, event)\n",
    "  print(f'{event}: {Y}')"
   ]
  },
  {
   "cell_type": "markdown",
   "id": "2c968507-297f-4fd3-86c4-8d863cad8df8",
   "metadata": {},
   "source": [
    "## Probability Distributions\n",
    "\n",
    "* **Definition**: Given a random variable $X: \\Omega \\rightarrow \\mathbb{R}$, let $A \\subset \\mathbb{R}$ be a any subset of the real line. Then probability distribution $P_{X} (A)$ is defined by\n",
    "$$P_{X}(A) = P(\\{ \\omega \\in \\Omega: X(\\omega) \\in A \\})$$\n",
    "\n",
    "* Discrete probability distribution (probability mass function) of $X$\n",
    "$$P(X=k) = P(\\{ \\omega \\in \\Omega: X(\\omega) = k \\})$$\n",
    "* Continuous probability distribution (probability density function) of $X$\n",
    "$$P(a \\leq X \\leq b) = P(\\{ \\omega \\in \\Omega: a \\leq X(\\omega) \\leq b \\})$$"
   ]
  },
  {
   "cell_type": "code",
   "execution_count": null,
   "id": "afcd7e9f-d088-43e8-a173-61d27229d2c6",
   "metadata": {},
   "outputs": [],
   "source": [
    "# probability distribution of X\n",
    "PX = defaultdict(list)\n",
    "for event in sorted(list(sample_space)):\n",
    "  X = random_variable_X(sample_space, event)\n",
    "  PX[X].append(event)\n",
    "PX"
   ]
  },
  {
   "cell_type": "code",
   "execution_count": null,
   "id": "d38f0e30-4e8d-4c0f-a458-1c4dfe2236c3",
   "metadata": {},
   "outputs": [],
   "source": [
    "# probability distribution of Y\n",
    "PY = defaultdict(list)\n",
    "for event in sorted(list(sample_space)):\n",
    "  X = random_variable_Y(sample_space, event)\n",
    "  PY[X].append(event)\n",
    "PY"
   ]
  },
  {
   "cell_type": "code",
   "execution_count": null,
   "id": "650d523f-a556-40a0-b392-8807cb712f2f",
   "metadata": {},
   "outputs": [],
   "source": [
    "def draw_distribution(PX):\n",
    "  x = []  # random variable\n",
    "  y = []  # count\n",
    "  for X, events in PX.items():\n",
    "    x.append(X)\n",
    "    y.append(len(events))\n",
    "  x = np.array(x)\n",
    "  y = np.array(y, dtype=np.float32)\n",
    "  total_events = y.sum()\n",
    "  y /= total_events\n",
    "\n",
    "  plt.bar(x, y)\n",
    "  if len(x) < 10:\n",
    "    xticks = [str(xx) for xx in x]\n",
    "    plt.xticks(x, xticks)\n",
    "  else:\n",
    "    tick_size = int((np.max(x) - np.min(x)) / 10)\n",
    "    xrange = list(range(np.min(x), np.max(x), tick_size))\n",
    "    xticks = list(map(str, xrange))\n",
    "    plt.xticks(xrange, xticks)\n",
    "  plt.show()\n",
    "\n",
    "  return np.concatenate((x[:, None], y[:, None]), axis=-1)"
   ]
  },
  {
   "cell_type": "code",
   "execution_count": null,
   "id": "f0112f53-89cf-4e2b-8af1-11fc46599f29",
   "metadata": {},
   "outputs": [],
   "source": [
    "px = draw_distribution(PX)"
   ]
  },
  {
   "cell_type": "code",
   "execution_count": null,
   "id": "fcc3525c-c0ae-40da-8664-c5db49f58d38",
   "metadata": {},
   "outputs": [],
   "source": [
    "py = draw_distribution(PY)"
   ]
  },
  {
   "cell_type": "markdown",
   "id": "a56e0dff-f83b-4778-83a0-039c03f75038",
   "metadata": {},
   "source": [
    "### Example) throwing a dic twice in succession\n",
    "\n",
    "* ranom variable $Z$: the summation of two dice face"
   ]
  },
  {
   "cell_type": "code",
   "execution_count": null,
   "id": "79d2017a-fd40-444e-8b5d-84663d325bc7",
   "metadata": {},
   "outputs": [],
   "source": [
    "sample_space = {f'{i}-{j}' for i in range(1, 7) for j in range(1, 7)}\n",
    "print(sample_space)"
   ]
  },
  {
   "cell_type": "code",
   "execution_count": null,
   "id": "8259131a-221e-4f01-a008-1fc301dcde13",
   "metadata": {},
   "outputs": [],
   "source": [
    "def random_variable_Z(sample_space, event):\n",
    "  # Z: summation of two dice\n",
    "  assert event in sample_space\n",
    "  i, j = map(int, event.split('-'))\n",
    "  return i + j"
   ]
  },
  {
   "cell_type": "code",
   "execution_count": null,
   "id": "2c8f9f16-0e36-4746-add5-157f985bfc18",
   "metadata": {},
   "outputs": [],
   "source": [
    "event = '6-2'\n",
    "print(f'random variable Z of event {event}: {random_variable_Z(sample_space, event)}')"
   ]
  },
  {
   "cell_type": "code",
   "execution_count": null,
   "id": "9c64bd82-2f91-4989-912c-3e59e3b478d6",
   "metadata": {},
   "outputs": [],
   "source": [
    "# probability distribution of Z\n",
    "PZ = defaultdict(list)\n",
    "for event in sorted(list(sample_space)):\n",
    "  X = random_variable_Z(sample_space, event)\n",
    "  PZ[X].append(event)\n",
    "PZ"
   ]
  },
  {
   "cell_type": "code",
   "execution_count": null,
   "id": "61ec4ea7-2ce1-45f0-8846-2e7c3792c78b",
   "metadata": {},
   "outputs": [],
   "source": [
    "pz = draw_distribution(PZ)"
   ]
  },
  {
   "cell_type": "markdown",
   "id": "4c866e78-c2ce-4eda-9728-d1b3769b31a5",
   "metadata": {},
   "source": [
    "### Example) throwing a die three times in a row\n",
    "\n",
    "* ranom variable $W$: the product of three dice face"
   ]
  },
  {
   "cell_type": "code",
   "execution_count": null,
   "id": "96731af7-a7e9-44ad-bb66-ed4ee8e8e152",
   "metadata": {},
   "outputs": [],
   "source": [
    "sample_space = {f'{i}-{j}-{k}' for i in range(1, 7) for j in range(1, 7) for k in range(1, 7)}\n",
    "print(len(sample_space))"
   ]
  },
  {
   "cell_type": "code",
   "execution_count": null,
   "id": "4fed0eed-c852-43c6-a28d-98dc76f625ae",
   "metadata": {},
   "outputs": [],
   "source": [
    "def random_variable_W(sample_space, event):\n",
    "  # Z: summation of two dice\n",
    "  assert event in sample_space\n",
    "  i, j, k = map(int, event.split('-'))\n",
    "  return i * j * k"
   ]
  },
  {
   "cell_type": "code",
   "execution_count": null,
   "id": "f479dad8-fbbb-49bd-b9e9-8ba6544e8722",
   "metadata": {},
   "outputs": [],
   "source": [
    "event = '4-3-2'\n",
    "print(f'random variable W of event {event}: {random_variable_W(sample_space, event)}')"
   ]
  },
  {
   "cell_type": "code",
   "execution_count": null,
   "id": "6a4cd842-c265-4f37-aba7-8ed0cef1297c",
   "metadata": {},
   "outputs": [],
   "source": [
    "# probability distribution of W\n",
    "PW = defaultdict(list)\n",
    "for event in sorted(list(sample_space)):\n",
    "  X = random_variable_W(sample_space, event)\n",
    "  PW[X].append(event)\n",
    "# PW"
   ]
  },
  {
   "cell_type": "code",
   "execution_count": null,
   "id": "c25e7cd4-0401-49e9-ac25-42fd00f28d81",
   "metadata": {},
   "outputs": [],
   "source": [
    "pw = draw_distribution(PW)"
   ]
  },
  {
   "cell_type": "markdown",
   "id": "0d9316da-b100-4f01-8c57-4aef777884e4",
   "metadata": {},
   "source": [
    "### Properties of discrete probability distributions\n",
    "\n",
    "* Normalization:\n",
    "$$\\sum_{x \\in \\mathcal{X}} P(x) = 1$$"
   ]
  },
  {
   "cell_type": "code",
   "execution_count": null,
   "id": "2e336639-9a82-4a77-9aea-458f89ba930c",
   "metadata": {},
   "outputs": [],
   "source": [
    "print(f'the summation of distribution of P(X): {px[:, 1].sum():.4f}')\n",
    "print(f'the summation of distribution of P(Y): {py[:, 1].sum():.4f}')\n",
    "print(f'the summation of distribution of P(Z): {pz[:, 1].sum():.4f}')\n",
    "print(f'the summation of distribution of P(W): {pw[:, 1].sum():.4f}')"
   ]
  },
  {
   "cell_type": "code",
   "execution_count": null,
   "id": "50534632-7769-4874-bdda-2f5d2afdb9f7",
   "metadata": {},
   "outputs": [],
   "source": [
    "a = 1"
   ]
  },
  {
   "cell_type": "code",
   "execution_count": null,
   "id": "e12c7ed0-0d37-4f14-8c1c-4187e0ea21e2",
   "metadata": {},
   "outputs": [],
   "source": [
    "a = 1"
   ]
  },
  {
   "cell_type": "code",
   "execution_count": null,
   "id": "bf4f8a0d-004f-490a-8ec3-a09d7c31503d",
   "metadata": {},
   "outputs": [],
   "source": [
    "a = 1"
   ]
  },
  {
   "cell_type": "code",
   "execution_count": null,
   "id": "29953004-ea7d-4fc3-9578-b660cdce6ece",
   "metadata": {},
   "outputs": [],
   "source": [
    "a = 1"
   ]
  },
  {
   "cell_type": "code",
   "execution_count": null,
   "id": "e3b7772d-d50e-4594-8ac7-3b0190decb56",
   "metadata": {},
   "outputs": [],
   "source": [
    "a = 1"
   ]
  },
  {
   "cell_type": "code",
   "execution_count": null,
   "id": "1577d8cf-4ed4-4453-b4a9-eb561c3cd130",
   "metadata": {},
   "outputs": [],
   "source": [
    "a = 1"
   ]
  },
  {
   "cell_type": "code",
   "execution_count": null,
   "id": "bf83199b-2870-43ac-9eed-5797af9d536c",
   "metadata": {},
   "outputs": [],
   "source": [
    "a = 1"
   ]
  },
  {
   "cell_type": "markdown",
   "id": "6bcaacdf-1392-47be-9aeb-cdfbdaacf52c",
   "metadata": {},
   "source": [
    "## Exepctation of a Random Variable\n",
    "\n",
    "* Discrete random variable $X$ with PMF $P_{X}(x)$\n",
    "  * Expectation or expected value of a random variable $X$\n",
    "$$\\mathbb{E}[X] = \\sum_{x \\in \\mathcal{X}} x P(x)$$\n",
    "\n",
    "* Continuous random variable $X$ with PDF $p_{X}(x)$\n",
    "  * Expectation or expected value of a random variable $X$\n",
    "$$\\mathbb{E}[X] = \\int_{\\mathcal{X}} x p(x) \\mathrm{d}x$$"
   ]
  },
  {
   "cell_type": "code",
   "execution_count": null,
   "id": "0ac79426-5013-43bd-9bab-0723dd4ce493",
   "metadata": {},
   "outputs": [],
   "source": [
    "# expectation of random variable\n",
    "def expectation(px, message=False):\n",
    "  s = 0.\n",
    "  for x, p in px:\n",
    "    if message:\n",
    "      print(f'random variable: {x} / probability: {p:.3f}')\n",
    "    s += x * p\n",
    "  print(f'expectation of a random variable: {s:.3f}')\n",
    "  return s"
   ]
  },
  {
   "cell_type": "code",
   "execution_count": null,
   "id": "2cf523bc-84cb-4421-ad53-3dc7f31584db",
   "metadata": {},
   "outputs": [],
   "source": [
    "_ = expectation(px)"
   ]
  },
  {
   "cell_type": "code",
   "execution_count": null,
   "id": "964778fb-5e14-417d-8e5e-bf01faee453f",
   "metadata": {},
   "outputs": [],
   "source": [
    "_ = expectation(py)"
   ]
  },
  {
   "cell_type": "code",
   "execution_count": null,
   "id": "3d18d0de-c8ff-479a-92c6-6e87b37f553d",
   "metadata": {},
   "outputs": [],
   "source": [
    "_ = expectation(pz)"
   ]
  },
  {
   "cell_type": "code",
   "execution_count": null,
   "id": "61dd3968-698e-4151-a310-cece0d2b5193",
   "metadata": {},
   "outputs": [],
   "source": [
    "_ = expectation(pw)"
   ]
  },
  {
   "cell_type": "markdown",
   "id": "8e8f9337-e386-486c-b377-92c7e3baf57f",
   "metadata": {},
   "source": [
    "### Expectation of functions\n",
    "\n",
    "* Discrete random variable $X$\n",
    "  * PMF $P_{X}(s)$ and an arbitrary function $g: \\mathbb{R} \\rightarrow \\mathbb{R}$\n",
    "  * Expectation or expected value of $g(s)$\n",
    "$$\\mathbb{E} [g(X)] = \\sum_{x \\in \\mathcal{X}} P_{X}(x) g(x)$$\n",
    "\n",
    "* Continuous random variable $X$ with PDF $p_{X}(s)$\n",
    "  * Expectation or expected value of $g(x)$\n",
    "$$\\mathbb{E} [g(X)] = \\int_{-\\infty}^{\\infty} p_{X}(x) g(x)$$"
   ]
  },
  {
   "cell_type": "code",
   "execution_count": null,
   "id": "7e2cccfc-5200-4db3-b39f-96dcc330eb38",
   "metadata": {},
   "outputs": [],
   "source": [
    "# expectation of a fucntion\n",
    "def expectation_of_functions(px, gx, message=False):\n",
    "  s = 0.\n",
    "  for x, p in px:\n",
    "    if message:\n",
    "      print(f'random variable: {x} / probability: {p:.3f}')\n",
    "    s += gx(float(x)) * p\n",
    "  return s"
   ]
  },
  {
   "cell_type": "code",
   "execution_count": null,
   "id": "c2e9fb51-1c55-4aca-984d-54ea9d63ccfb",
   "metadata": {},
   "outputs": [],
   "source": [
    "# gx = lambda x: 2 * x\n",
    "gx = lambda x: x * x\n",
    "gx = lambda x: np.sin(x / np.pi)\n",
    "gx = lambda x: np.exp(-x / 10)"
   ]
  },
  {
   "cell_type": "code",
   "execution_count": null,
   "id": "792ee02f-fb22-4104-a89a-49acc862cbab",
   "metadata": {},
   "outputs": [],
   "source": [
    "# mu = pw.prod(axis=1).sum()"
   ]
  },
  {
   "cell_type": "code",
   "execution_count": null,
   "id": "7454ed9d-ea5a-453d-a261-1eb1d0543e34",
   "metadata": {},
   "outputs": [],
   "source": [
    "mu = expectation_of_functions(px, gx)  # E(X) = 1.5\n",
    "print(f'expectation of a random variable: {mu:.3f}')"
   ]
  },
  {
   "cell_type": "code",
   "execution_count": null,
   "id": "c6a4262f-2b3d-482f-a3b5-f58d9d70e891",
   "metadata": {},
   "outputs": [],
   "source": [
    "mu = expectation_of_functions(py, gx)  # E(Y) = 0.5\n",
    "print(f'expectation of a random variable: {mu:.3f}')"
   ]
  },
  {
   "cell_type": "code",
   "execution_count": null,
   "id": "8d985c6c-ee63-4d92-bbc6-6f12f58e50cc",
   "metadata": {},
   "outputs": [],
   "source": [
    "mu = expectation_of_functions(pz, gx)  # E(Z) = 7.0\n",
    "print(f'expectation of a random variable: {mu:.3f}')"
   ]
  },
  {
   "cell_type": "code",
   "execution_count": null,
   "id": "a736886e-ab63-40ba-8dec-283e731bb816",
   "metadata": {},
   "outputs": [],
   "source": [
    "mu = expectation_of_functions(pw, gx)  # E(W) = 42.875\n",
    "print(f'expectation of a random variable: {mu:.3f}')"
   ]
  },
  {
   "cell_type": "markdown",
   "id": "4acfff4b-7bb4-4ad9-8e16-15f6681283cb",
   "metadata": {},
   "source": [
    "### Properties of expectation\n",
    "\n",
    "* $\\mathbb{E}[a] = a$ for any constant $a \\in \\mathbb{R}$\n",
    "* $\\mathbb{E}[ a g(X) ]= a \\mathbb{E}[ g(X) ]$ for any constant $a \\in \\mathbb{R}$\n",
    "* *Linearity of expectation*: $\\mathbb{E} [a f(X) + b g(X)] = a \\mathbb{E}[f(X)] + b \\mathbb{E}[g(X)]$"
   ]
  },
  {
   "cell_type": "code",
   "execution_count": null,
   "id": "2b2c89aa-cd72-410e-8518-c52f330b5edf",
   "metadata": {},
   "outputs": [],
   "source": [
    "# property1\n",
    "gx = lambda x: 3\n",
    "mu = expectation_of_functions(px, gx)  # E(X) = 1.5\n",
    "print(f'expectation of a random variable: {mu:.3f}')"
   ]
  },
  {
   "cell_type": "code",
   "execution_count": null,
   "id": "7655381b-06f0-4ef4-bf49-d3de875e3e4b",
   "metadata": {},
   "outputs": [],
   "source": [
    "# property2\n",
    "a = 3\n",
    "gx = lambda x: np.sin(x / np.pi)\n",
    "fx = lambda x: a * gx(x)\n",
    "mu = expectation_of_functions(px, fx)  # E(X) = 1.5\n",
    "mu_r = expectation_of_functions(px, gx)\n",
    "print(f'left: {mu:.4f} / right: {a * mu_r:.4f}')"
   ]
  },
  {
   "cell_type": "code",
   "execution_count": null,
   "id": "37d35647-2702-47fa-91af-df720e1ca402",
   "metadata": {},
   "outputs": [],
   "source": [
    "# property3: linearity of expectation\n",
    "a, b = 3, 2\n",
    "fx = lambda x: np.sin(x / np.pi)\n",
    "gx = lambda x: np.exp(-x / 10)\n",
    "lin_fg = lambda x: a * fx(x) + b * gx(x)\n",
    "mu_l = expectation_of_functions(px, lin_fg)\n",
    "mu_r1 = expectation_of_functions(px, fx)\n",
    "mu_r2 = expectation_of_functions(px, gx)\n",
    "print(f'left: {mu_l:.4f} / right: {a * mu_r1 + b * mu_r2:.4f}')"
   ]
  },
  {
   "cell_type": "markdown",
   "id": "47b863a5-4ca5-4e0b-a4ba-2e5022af87e2",
   "metadata": {},
   "source": [
    "### Variance of a random variable\n",
    "\n",
    "* **Definition**\n",
    "$$\\mathrm{Var}[X] = \\mathbb{E}[ (X - \\mathbb{E}[X])^{2} ]$$\n",
    "* *Standard deviation*: the square root of the variance\n",
    "$$\\sigma = \\sqrt{\\mathrm{Var}[X]}$$\n",
    "* Alternate expression\n",
    "$$\\begin{array}{rl}\n",
    "\\mathbb{E} [ (X - \\mathbb{E}[X])^{2} ]\n",
    "&= \\mathbb{E} [ X^{2} - 2X\\mathbb{E}[X] + \\mathbb{E}[X]^{2} ]\\\\\n",
    "&= \\mathbb{E} [ X^{2} ] - 2\\mathbb{E}[X] \\mathbb{E}[X] + \\mathbb{E}[X]^{2}\\\\\n",
    "&= \\mathbb{E}[X^{2}] - \\mathbb{E}[X]^{2}\n",
    "\\end{array}$$"
   ]
  },
  {
   "cell_type": "code",
   "execution_count": null,
   "id": "2a7a121f-cabe-4696-8fd0-9b987333c612",
   "metadata": {},
   "outputs": [],
   "source": [
    "# variance of a random variable\n",
    "def variance(px, message=False):\n",
    "  s = 0.\n",
    "  ss = 0.\n",
    "  for x, p in px:\n",
    "    s += x * p\n",
    "    ss += x**2 * p\n",
    "  return ss - s**2"
   ]
  },
  {
   "cell_type": "code",
   "execution_count": null,
   "id": "3ffc2c12-76f7-478b-a947-8c14ba75a158",
   "metadata": {},
   "outputs": [],
   "source": [
    "# mu = pw.prod(axis=1).sum()\n",
    "# ((pw[:, 0] - mu)**2 * pw[:, 1]).sum()"
   ]
  },
  {
   "cell_type": "code",
   "execution_count": null,
   "id": "10259fd3-e176-4ff7-977a-71c420ba255f",
   "metadata": {},
   "outputs": [],
   "source": [
    "var = variance(px)\n",
    "print(f'variance of a random variable: {var:.4f}')"
   ]
  },
  {
   "cell_type": "code",
   "execution_count": null,
   "id": "9442abe5-7b0e-485f-adbd-791f2be8d4cb",
   "metadata": {},
   "outputs": [],
   "source": [
    "var = variance(py)\n",
    "print(f'variance of a random variable: {var:.4f}')"
   ]
  },
  {
   "cell_type": "code",
   "execution_count": null,
   "id": "db752eb6-ff1e-4036-9ea6-6640a12c02b2",
   "metadata": {},
   "outputs": [],
   "source": [
    "var = variance(pz)\n",
    "print(f'variance of a random variable: {var:.4f}')"
   ]
  },
  {
   "cell_type": "code",
   "execution_count": null,
   "id": "6663111f-7aca-4de4-8c60-b34f4a9ac232",
   "metadata": {},
   "outputs": [],
   "source": [
    "var = variance(pw)\n",
    "print(f'variance of a random variable: {var:.4f}')"
   ]
  },
  {
   "cell_type": "markdown",
   "id": "acb61a4b-f770-498c-936e-7dae9b2b4c3a",
   "metadata": {},
   "source": [
    "### Properties of variance\n",
    "\n",
    "* $\\mathrm{Var}(X) \\geq 0 $\n",
    "* $\\mathrm{Var}(a) = 0$, $a$ is a constant\n",
    "* $\\mathrm{Var}(X + a) = \\mathrm{Var}(X)$\n",
    "* $\\mathrm{Var}(aX) = a^{2} \\mathrm{Var}(X)$\n",
    "* $\\mathrm{Var}(aX \\pm bY) = a^{2} \\mathrm{Var}(X) + b^{2} \\mathrm{Var}(X) \\pm 2ab \\mathrm{Cov}(X, Y)$\n",
    "* $\\mathrm{Var}(f(x)) = \\mathbb{E} [ ( f(x) - \\mathbb{E}[ f(x) ] )^{2} ]$"
   ]
  },
  {
   "cell_type": "code",
   "execution_count": null,
   "id": "6c6ed625-63ef-4f0a-8d76-fb56546982bb",
   "metadata": {},
   "outputs": [],
   "source": [
    "# property3\n",
    "a = 3\n",
    "_px = deepcopy(px)\n",
    "_px[:, 0] = a + _px[:, 0]\n",
    "print(f'variance of X: {variance(px)}')\n",
    "print(f'variance of translated X: {variance(_px)}')"
   ]
  },
  {
   "cell_type": "code",
   "execution_count": null,
   "id": "68d49d06-cd66-4821-8026-f1bf0a30b72d",
   "metadata": {},
   "outputs": [],
   "source": [
    "# property4\n",
    "a = 3\n",
    "_px = deepcopy(px)\n",
    "_px[:, 0] = a * _px[:, 0]\n",
    "print(f'variance of X: {variance(px)}')\n",
    "print(f'variance of scaled X: {variance(_px)}')"
   ]
  },
  {
   "cell_type": "code",
   "execution_count": null,
   "id": "56ece23e-540c-41bc-b4ab-2ff5465c0f7f",
   "metadata": {},
   "outputs": [],
   "source": [
    "0.75 * 9 "
   ]
  },
  {
   "cell_type": "markdown",
   "id": "ff8ba65f-0290-472e-a30e-d50dd2beea1a",
   "metadata": {},
   "source": [
    "## Exmaple of discrete probability distributions\n",
    "\n",
    "### Uniform distribution: (random variable $X$ with $k$ different states)\n",
    "$$P(X = x_{i}) = \\frac{1}{k}, \\quad\n",
    "\\sum_{i} P(X = x_{i}) = \\sum_{i} \\frac{1}{k} = \\frac{k}{k} = 1$$"
   ]
  },
  {
   "cell_type": "code",
   "execution_count": null,
   "id": "f5520d91-6ccd-4a1d-8a88-a6da28587388",
   "metadata": {},
   "outputs": [],
   "source": [
    "# using `numpy.random.randint`\n",
    "N = 100000\n",
    "x = np.random.randint(low=0, high=10, size=N)\n",
    "print(x[:100])"
   ]
  },
  {
   "cell_type": "code",
   "execution_count": null,
   "id": "6483002c-fd8d-4ce3-ae2b-4973191f8484",
   "metadata": {},
   "outputs": [],
   "source": [
    "plt.hist(x, density=True)"
   ]
  },
  {
   "cell_type": "code",
   "execution_count": null,
   "id": "a7a5615f-b25a-4f07-ade3-46742c019ed1",
   "metadata": {},
   "outputs": [],
   "source": [
    "print(f'mean of discrete uniform distribution [0, 9]: {x.mean():.4f}')\n",
    "print(f'variance of discrete uniform distribution [0, 9]: {x.var():.4f}')"
   ]
  },
  {
   "cell_type": "code",
   "execution_count": null,
   "id": "b39601fc-6247-44e7-89b6-76ff2c1fc371",
   "metadata": {},
   "outputs": [],
   "source": [
    "a = 1"
   ]
  },
  {
   "cell_type": "markdown",
   "id": "6fc35bac-d4ad-48b5-90b6-41c813f2d89a",
   "metadata": {},
   "source": [
    "### Bernoulli distributions\n",
    "\n",
    "* probability mass function\n",
    "$$f(k; p) = \\left\\{ \\begin{array}{ll}\n",
    "p & \\textrm{if} \\, k = 1,\\\\\n",
    "1 - p & \\textrm{if} \\, k=0\n",
    "\\end{array} \\right.$$\n",
    "* mean: $p$\n",
    "* variance: $p(1-p)$"
   ]
  },
  {
   "cell_type": "code",
   "execution_count": null,
   "id": "5bb6e838-0d6b-43cd-9b5d-4e2a1d848b3e",
   "metadata": {},
   "outputs": [],
   "source": [
    "p = 0.7\n",
    "x = np.random.binomial(1, p, size=10000)"
   ]
  },
  {
   "cell_type": "code",
   "execution_count": null,
   "id": "bc0b848f-6405-4fef-a818-853be8c64097",
   "metadata": {},
   "outputs": [],
   "source": [
    "plt.hist(x, density=True)"
   ]
  },
  {
   "cell_type": "code",
   "execution_count": null,
   "id": "07e16f87-bb77-40f2-b0cc-5851048b6df0",
   "metadata": {},
   "outputs": [],
   "source": [
    "print(f'mean of Bernoulli distribution: {x.mean():.4f}')\n",
    "print(f'variance of Bernoulli distribution: {x.var():.4f}')"
   ]
  },
  {
   "cell_type": "markdown",
   "id": "9c3e48aa-f21c-4395-b40a-1b77e31163d8",
   "metadata": {},
   "source": [
    "### Binomial distributions\n",
    "\n",
    "<img width=\"300\" src=\"https://user-images.githubusercontent.com/11681225/184646169-32cb1469-96a5-46bd-98e7-26d65c8b76e3.png\">\n",
    "\n",
    "* probability mass function\n",
    "$$\\begin{array}{l}\n",
    "&f(k; n, p) = \\mathrm{Pr}(k; n, p) \\\\\n",
    "& \\quad = \\mathrm{Pr}(X = k) = \\left( \\begin{array}{c}\n",
    "n\\\\\n",
    "k\n",
    "\\end{array} \\right)\n",
    "p^{k} (1 - p)^{n-k}\n",
    "\\end{array}$$\n",
    "for $k = 0, 1, \\ldots, n$, where $$\\left( \\begin{array}{c}\n",
    "n\\\\\n",
    "k\n",
    "\\end{array} \\right) = \\frac{n!}{k! (n-k)!}$$\n",
    "* mean: $np$\n",
    "* variance: $np(1-p)$"
   ]
  },
  {
   "cell_type": "code",
   "execution_count": null,
   "id": "def48ff0-bd4b-4b7f-82e2-35ee21815c26",
   "metadata": {},
   "outputs": [],
   "source": [
    "n = 40\n",
    "p = 0.5\n",
    "x = np.random.binomial(n, p, size=10000)"
   ]
  },
  {
   "cell_type": "code",
   "execution_count": null,
   "id": "d1cbcb73-a3ff-41d7-b548-a46083b86c7c",
   "metadata": {},
   "outputs": [],
   "source": [
    "left = min(x)\n",
    "right = max(x)\n",
    "plt.hist(x, density=True, bins=range(left, right + 2, 1))\n",
    "plt.show()"
   ]
  },
  {
   "cell_type": "code",
   "execution_count": null,
   "id": "73ae280b-f96c-4f62-a3c7-dc9f5794247b",
   "metadata": {},
   "outputs": [],
   "source": [
    "print(f'mean of binomial distribution ({n}, {p}): {x.mean():.4f}')  # mean: n * p\n",
    "print(f'variance of binomial distribution ({n}, {p}): {x.var():.4f}')  # var: n * p * (1 - p)"
   ]
  },
  {
   "cell_type": "markdown",
   "id": "f4d570af-0c73-4d58-a8f4-38c8d311df58",
   "metadata": {},
   "source": [
    "### Multinoulli distributions\n",
    "\n",
    "* Single discrete variable with $k$ different states, where $k$ is finite\n",
    "* Sample space: $\\Omega = \\{1, \\ldots, ,k \\}$\n",
    "* Probability distribution, $X \\sim \\mathrm{Cat}(p_{1}, \\ldots, p_{k})$\n",
    "  * $P(X = i) = p_{i}$, such that $\\sum p_{i} = 1$\n",
    "* Probability mass function\n",
    "$$f(x = i | \\boldsymbol{p}) = p_{i}$$\n",
    "where $\\boldsymbol{p} = (p_{1}, \\ldots, p_{k})$"
   ]
  },
  {
   "cell_type": "code",
   "execution_count": null,
   "id": "ff05f2e6-ca15-474d-a057-d5ed7e6bc005",
   "metadata": {},
   "outputs": [],
   "source": [
    "n = 10000\n",
    "num_category = 10\n",
    "p = np.random.choice(100, size=num_category) / 50\n",
    "p = torch.softmax(torch.tensor(p), dim=0).numpy()\n",
    "p = np.sort(p)\n",
    "x = np.random.multinomial(n=1, pvals=p, size=10)"
   ]
  },
  {
   "cell_type": "code",
   "execution_count": null,
   "id": "050177e1-f2cd-4c8f-a151-30186177b728",
   "metadata": {},
   "outputs": [],
   "source": [
    "x = np.random.multinomial(1, p, size=n)\n",
    "x = np.argmax(x, axis=1)"
   ]
  },
  {
   "cell_type": "code",
   "execution_count": null,
   "id": "e08d04e3-e6fb-4500-9d6e-d99c8da9c7fc",
   "metadata": {},
   "outputs": [],
   "source": [
    "plt.hist(x, density=True, bins=range(0, num_category, 1))\n",
    "plt.show()"
   ]
  },
  {
   "cell_type": "markdown",
   "id": "6fe11505-3771-435d-8d0e-b52d2f4c7a11",
   "metadata": {},
   "source": [
    "## Exmaple of continuous probability distributions\n",
    "\n",
    "### Uniform distribution\n",
    "\n",
    "<img width=\"200\" src=\"https://user-images.githubusercontent.com/11681225/184651948-0fe9f5e8-fb05-40cb-81be-b606faa4d1c0.png\">\n",
    "\n",
    "* Probability density function\n",
    "$$f(x) = \\left\\{ \\begin{array}{ll}\n",
    "\\frac{1}{b-a} & \\textrm{for} \\ a \\leq x \\leq b,\\\\\n",
    "0 & \\textrm{for} \\ x < a \\ \\textrm{or} \\ x > b\n",
    "\\end{array} \\right.$$\n",
    "* mean: $(a + b) / 2$\n",
    "* variance: $\\frac{(b - a)^{2}}{12}$"
   ]
  },
  {
   "cell_type": "code",
   "execution_count": null,
   "id": "cc03f6e6-e3ec-4cf5-a0ef-a73215f67f55",
   "metadata": {},
   "outputs": [],
   "source": [
    "a, b = 3, 7\n",
    "x = np.random.uniform(low=a, high=b, size=10000)"
   ]
  },
  {
   "cell_type": "code",
   "execution_count": null,
   "id": "abebb831-d113-4426-947d-1cf64de2e774",
   "metadata": {},
   "outputs": [],
   "source": [
    "plt.hist(x, density=True, bins=20)\n",
    "plt.show()"
   ]
  },
  {
   "cell_type": "code",
   "execution_count": null,
   "id": "b36eb7f9-e14f-4ee3-84db-ea7cf27e1816",
   "metadata": {},
   "outputs": [],
   "source": [
    "print(f'theoretical mean of x: {(a + b) / 2:.4f}')\n",
    "print(f'emperical mean of x: {x.mean():.4f}')"
   ]
  },
  {
   "cell_type": "code",
   "execution_count": null,
   "id": "bfeae2ba-6fe8-45f7-951c-12ca7ae8e500",
   "metadata": {},
   "outputs": [],
   "source": [
    "print(f'theoretical variance of x: {(b - a)**2 / 12:.4f}')\n",
    "print(f'emperical mean of x: {x.var():.4f}')"
   ]
  },
  {
   "cell_type": "markdown",
   "id": "0d054488-8a38-440c-a345-f96efd6732ec",
   "metadata": {},
   "source": [
    "### Normal (Gaussian) distribution\n",
    "\n",
    "<img width=\"300\" src=\"https://user-images.githubusercontent.com/11681225/184653267-931ea449-36de-45c3-981c-d1fdeef14c38.png\">\n",
    "\n",
    "* probability density function\n",
    "$$\\mathcal{N}(x; \\mu, \\sigma^{2})\n",
    "= \\sqrt{\\frac{1}{2\\pi \\sigma^{2}}}\n",
    "\\exp \\left( - \\frac{(x - \\mu)^{2}}{2 \\sigma^{2}} \\right)$$\n",
    "* mean: $\\mu$\n",
    "* variance: $\\sigma^{2}$"
   ]
  },
  {
   "cell_type": "code",
   "execution_count": null,
   "id": "42200c0d-5af5-48cc-a2e6-06713fe72c88",
   "metadata": {},
   "outputs": [],
   "source": [
    "mu = -2\n",
    "sigma = np.sqrt(0.5)\n",
    "x = np.random.normal(loc=mu, scale=sigma, size=100000)"
   ]
  },
  {
   "cell_type": "code",
   "execution_count": null,
   "id": "5d8e0863-b20a-49ce-bf58-b51858945a65",
   "metadata": {},
   "outputs": [],
   "source": [
    "plt.hist(x, density=True, bins=100)\n",
    "plt.show()"
   ]
  },
  {
   "cell_type": "code",
   "execution_count": null,
   "id": "2edf0e7c-4439-4a18-af3f-643166624e5c",
   "metadata": {},
   "outputs": [],
   "source": [
    "plt.hist(x, density=True, cumulative=True, histtype='step', bins=100)\n",
    "plt.show()"
   ]
  },
  {
   "cell_type": "code",
   "execution_count": null,
   "id": "6efccd88-b299-4a30-98a5-2868f23764ba",
   "metadata": {},
   "outputs": [],
   "source": [
    "print(f'theoretical mean of x: {mu:.4f}')\n",
    "print(f'emperical mean of x: {x.mean():.4f}')"
   ]
  },
  {
   "cell_type": "code",
   "execution_count": null,
   "id": "e30ee508-abc8-4fb2-9043-ac6161c71070",
   "metadata": {},
   "outputs": [],
   "source": [
    "print(f'theoretical variance of x: {sigma**2:.4f}')\n",
    "print(f'emperical variance of x: {x.var():.4f}')"
   ]
  },
  {
   "cell_type": "markdown",
   "id": "34a45239-945d-4139-8f5e-0b2be1e9332e",
   "metadata": {},
   "source": [
    "# Two Random Variables\n",
    "\n",
    "## Joint Probability Mass Functions\n",
    "\n",
    "|   | $y_{1}$ | $y_{2}$ | $y_{3}$ | $P(X)$ |\n",
    "|:---:| --- | --- | --- | --- |\n",
    "| $x_{1}$ | 4/50 | 6/50 | 10/50 | 20/50 |\n",
    "| $x_{2}$ | 6/50 | 9/50 | 15/50 | 30/50 |\n",
    "| $P(Y)$ | 10/50 | 15/50 | 25/50 | 50/50 |\n",
    "\n",
    "* **Joint probability distribution**: the probability distribution of multiple random variables\n",
    "$$P_{XY}(x, y) = P(X = x, Y= y)$$\n",
    "* **Marginal probability distribution**: the marginal probability is the probability of a single event occurring, independent of other events\n",
    "$$\\forall x \\in X, \\, P_{X}(x) = \\sum_{y \\in \\mathcal{Y}} P_{XY}(x, y) \\quad \n",
    "\\forall y \\in Y, \\, P_{Y}(y) = \\sum_{x \\in \\mathcal{X}} P_{XY}(x, y)$$"
   ]
  },
  {
   "cell_type": "code",
   "execution_count": null,
   "id": "86dbfca6-29c8-42a5-946e-6fc207dc9a77",
   "metadata": {},
   "outputs": [],
   "source": [
    "n = 1000000\n",
    "p = np.array([0.4, 0.6])\n",
    "x = np.random.multinomial(1, p, size=n)\n",
    "x = np.argmax(x, axis=1)\n",
    "\n",
    "q = np.array([0.2, 0.3, 0.5])\n",
    "y = np.random.multinomial(1, q, size=n)\n",
    "y = np.argmax(y, axis=1)\n",
    "\n",
    "xy = np.concatenate((x[:, None], y[:, None]), axis=1)"
   ]
  },
  {
   "cell_type": "code",
   "execution_count": null,
   "id": "0489a4ee-dfca-4684-90b3-9fcf22ba7cbc",
   "metadata": {},
   "outputs": [],
   "source": [
    "fig = plt.figure()\n",
    "ax = fig.add_subplot(projection='3d')\n",
    "#x, y = np.random.rand(2, 100) * 4\n",
    "hist, xedges, yedges = np.histogram2d(x, y, bins=3, range=[[0, 1], [0, 2]])\n",
    "\n",
    "# Construct arrays for the anchor positions of the 16 bars.\n",
    "xpos, ypos = np.meshgrid(xedges[:-1] + 0.25, yedges[:-1] + 0.25, indexing=\"ij\")\n",
    "xpos = xpos.ravel()\n",
    "ypos = ypos.ravel()\n",
    "zpos = 0\n",
    "\n",
    "# Construct arrays with the dimensions for the 16 bars.\n",
    "dx = dy = 0.5 * np.ones_like(zpos)\n",
    "dz = hist.ravel()\n",
    "\n",
    "ax.bar3d(xpos, ypos, zpos, dx, dy, dz, zsort='average')\n",
    "\n",
    "plt.show()"
   ]
  },
  {
   "cell_type": "code",
   "execution_count": null,
   "id": "238838db-262b-4af2-8fc3-dae9bff8fda9",
   "metadata": {},
   "outputs": [],
   "source": [
    "xy"
   ]
  },
  {
   "cell_type": "code",
   "execution_count": null,
   "id": "2cc4c5d4-23e5-490a-b960-f35b10052a6c",
   "metadata": {},
   "outputs": [],
   "source": [
    "XY = xy.tolist()\n",
    "XY = [tuple(item) for item in XY]"
   ]
  },
  {
   "cell_type": "code",
   "execution_count": null,
   "id": "68aa5065-bebf-4324-aaff-ccd7285f9a4e",
   "metadata": {},
   "outputs": [],
   "source": [
    "counting = Counter(XY)"
   ]
  },
  {
   "cell_type": "code",
   "execution_count": null,
   "id": "102e0d90-d4db-46fc-aec5-06b8ca3b3b0f",
   "metadata": {},
   "outputs": [],
   "source": [
    "counting"
   ]
  },
  {
   "cell_type": "code",
   "execution_count": null,
   "id": "c2766033-ccdb-4112-8e2b-1861676a69e8",
   "metadata": {},
   "outputs": [],
   "source": [
    "prob_dist = np.zeros([2, 3])\n",
    "for i in range(2):\n",
    "  for j in range(3):\n",
    "    prob_dist[i, j] = counting[(i, j)] / n"
   ]
  },
  {
   "cell_type": "code",
   "execution_count": null,
   "id": "b8da9c33-ddc2-4d09-a131-f054af334317",
   "metadata": {},
   "outputs": [],
   "source": [
    "prob_dist"
   ]
  },
  {
   "cell_type": "code",
   "execution_count": null,
   "id": "64caa55a-a2ef-47a1-b9d8-2a4ff9636377",
   "metadata": {},
   "outputs": [],
   "source": [
    "prob_dist\n",
    "px = prob_dist.sum(axis=1)\n",
    "py = prob_dist.sum(axis=0)"
   ]
  },
  {
   "cell_type": "code",
   "execution_count": null,
   "id": "857d61f7-9cd5-435e-a3a5-558e65e861b8",
   "metadata": {},
   "outputs": [],
   "source": [
    "px"
   ]
  },
  {
   "cell_type": "code",
   "execution_count": null,
   "id": "4f4f6b91-4bab-406c-a01b-858e5ec9da53",
   "metadata": {},
   "outputs": [],
   "source": [
    "py"
   ]
  },
  {
   "cell_type": "markdown",
   "id": "c1653857-d2c4-46ba-870a-ec7d8f79b4fe",
   "metadata": {},
   "source": [
    "## Independence\n",
    "\n",
    "* Two random variables $X$ and $Y$ are independent\n",
    "$$\\forall x \\in X, y \\in Y, \\, P_{XY}(x, y) = P_{X}(x)P_{Y}(y)$$\n",
    "* from conditional probability formula\n",
    "$$\\begin{array}{rl}\n",
    "P_{Y|X}(y|x) &= \\frac{P_{XY}(x, y)}{P_{X}(x)} \\\\\n",
    "&= \\frac{P_{X}(x) P_{Y}(y)}{P_{X}(x)}\n",
    "= P_{Y}(y), \\quad \\textrm{whenever } P_{X}(x) \\neq 0\n",
    "\\end{array}$$\n",
    "\n",
    "* Notation: $X \\perp Y$"
   ]
  },
  {
   "cell_type": "code",
   "execution_count": null,
   "id": "39b2250b-e73a-449f-ae02-b60c5207cdaa",
   "metadata": {},
   "outputs": [],
   "source": [
    "for i in range(2):\n",
    "  for j in range(3):\n",
    "    print(f'{prob_dist[i, j]:.3f} / {px[i] * py[j]:.3f}')\n",
    "    print(f'{np.allclose(prob_dist[i, j], px[i] * py[j], atol=1e-3)}')"
   ]
  },
  {
   "cell_type": "markdown",
   "id": "4fa4ae67-2347-44ce-abd9-066bb3dab71c",
   "metadata": {},
   "source": [
    "## Joint Probability Density Functions\n",
    "\n",
    "<img width=\"300\" src=\"https://user-images.githubusercontent.com/11681225/186937529-bf60ee92-5152-4b67-8610-0545ee2b3b5c.png\">"
   ]
  },
  {
   "cell_type": "code",
   "execution_count": null,
   "id": "bfe7311c-e79f-46df-b726-80495f76f1eb",
   "metadata": {},
   "outputs": [],
   "source": [
    "mean = np.array([2.0, -1.0])\n",
    "cov = np.array([ [0.5, 0.7],\n",
    "                 [0.7, 3.0] ])\n",
    "xy = np.random.multivariate_normal(mean, cov, size=100000)"
   ]
  },
  {
   "cell_type": "code",
   "execution_count": null,
   "id": "ae9431be-5518-4677-bc56-281e67a50112",
   "metadata": {},
   "outputs": [],
   "source": [
    "fig = plt.figure()\n",
    "ax = fig.add_subplot(111)\n",
    "ax.set_aspect('equal', adjustable='box')\n",
    "plt.xlim(-10, 10)\n",
    "plt.ylim(-10, 10)\n",
    "plt.scatter(xy[:, 0], xy[:, 1])\n",
    "plt.show()"
   ]
  },
  {
   "cell_type": "code",
   "execution_count": null,
   "id": "8e428db3-87e4-4ac9-b8a4-ece4325a2ef6",
   "metadata": {},
   "outputs": [],
   "source": [
    "X = xy[:, 0]\n",
    "print(f'mean of X: {X.mean():.4f} / variance of X: {X.var():.4f}')\n",
    "plt.hist(X, bins=100, density=True)\n",
    "plt.show()"
   ]
  },
  {
   "cell_type": "code",
   "execution_count": null,
   "id": "8c538be7-53ab-4fee-b88d-3943ab0ba502",
   "metadata": {},
   "outputs": [],
   "source": [
    "Y = xy[:, 1]\n",
    "print(f'mean of Y: {Y.mean():.4f} / variance of Y: {Y.var():.4f}')\n",
    "plt.hist(Y, bins=100, density=True)\n",
    "plt.show()"
   ]
  },
  {
   "cell_type": "code",
   "execution_count": null,
   "id": "9075a0c7-2c71-4dbb-be5a-42a11a32f642",
   "metadata": {},
   "outputs": [],
   "source": [
    "np.cov(X, Y)"
   ]
  },
  {
   "cell_type": "code",
   "execution_count": null,
   "id": "cbea5f62-70c7-4834-9468-a7a120cefac6",
   "metadata": {},
   "outputs": [],
   "source": [
    "xy.mean()"
   ]
  },
  {
   "cell_type": "markdown",
   "id": "30a89984-3c96-43aa-89f7-fba94854ebee",
   "metadata": {},
   "source": [
    "### Covariance\n",
    "\n",
    "$$\\mathrm{Cov}[X, Y] = \\mathbb{E}[ (X - \\mathbb{E}[X]) (Y - \\mathbb{E}[Y]) ]$$\n",
    "$$\\mathrm{Cov}[X, Y] = \\mathbb{E}[XY] - \\mathbb{E}[X] \\mathbb{E}[Y]$$"
   ]
  },
  {
   "cell_type": "code",
   "execution_count": null,
   "id": "fce296e0-e6de-4176-ac55-8790856f3243",
   "metadata": {},
   "outputs": [],
   "source": [
    "cov = (X * Y).mean() - (X.mean() * Y.mean())\n",
    "print(f'covariance of X and Y: {cov:.4f}')"
   ]
  },
  {
   "cell_type": "markdown",
   "id": "7fc73e6c-f302-4db0-a846-ea4e29e9cbb9",
   "metadata": {},
   "source": [
    "#### Properties of covariance\n",
    "\n",
    "* $\\mathbb{E}[ f(X, Y) + g(X, Y) ] = \\mathbb{E}[f(X, Y)] + \\mathbb{E}[g(X, Y)]$\n",
    "* $\\mathrm{Var}[aX \\pm bY] = a^{2} \\mathrm{Var}[X] + b^{2} \\mathrm{Var}[Y] \\pm 2ab \\mathrm{Cov}[X, Y]$\n",
    "* If $X$ and $Y$ are independent, then $\\mathrm{Cov}[X, Y] = 0$\n",
    "* If $X$ and $Y$ are independent, then $\\mathbb{E}[f(X) g(Y)] = \\mathbb{E}[f(X)] \\mathbb{E}[g(Y)]$\n",
    "* $\\mathrm{Cov}[X, X] = \\mathrm{Var}[X]$"
   ]
  },
  {
   "cell_type": "code",
   "execution_count": null,
   "id": "be271ffc-3a39-4f48-8f3a-ccdb45716369",
   "metadata": {},
   "outputs": [],
   "source": [
    "# property 1\n",
    "f = 2 * X + Y\n",
    "g = X * Y\n",
    "left = (f + g).mean()\n",
    "right = f.mean() + g.mean()\n",
    "print(f'left: {left:.4f} / right: {right:.4f}')"
   ]
  },
  {
   "cell_type": "code",
   "execution_count": null,
   "id": "58111f4d-341c-4c7d-947c-027ac1a6280e",
   "metadata": {},
   "outputs": [],
   "source": [
    "# property 2\n",
    "a, b = 2, 3\n",
    "c = a * X + b * Y\n",
    "left = c.var()\n",
    "right = a**2 * X.var() + b**2 * Y.var() + 2 * a * b * np.cov(X, Y)[0, 1]\n",
    "print(f'left: {left:.5f} / right: {right:.5f}')\n",
    "print(np.allclose(left, right))"
   ]
  },
  {
   "cell_type": "markdown",
   "id": "110fca1f-5ed2-47f7-aa80-0cb6ba81c753",
   "metadata": {},
   "source": [
    "### The sign of the covariance\n",
    "\n",
    "<img width=\"600\" alt=\"Covariance_trends1\" src=\"https://user-images.githubusercontent.com/11681225/186956292-d3af8aa1-01d1-4870-ac55-97d106bd32b5.png\">"
   ]
  },
  {
   "cell_type": "code",
   "execution_count": null,
   "id": "ae219d21-b0f0-4408-9faa-d75498a2add2",
   "metadata": {},
   "outputs": [],
   "source": [
    "mean = np.array([-3.0, 2.0])\n",
    "cov = np.array([ [0.5, 0.6],\n",
    "                 [0.6, 1.0] ])\n",
    "xy1 = np.random.multivariate_normal(mean, cov, size=100000)"
   ]
  },
  {
   "cell_type": "code",
   "execution_count": null,
   "id": "479771d5-0905-4b7d-b139-370e03f3e88f",
   "metadata": {},
   "outputs": [],
   "source": [
    "mean = np.array([4.0, 2.0])\n",
    "cov = np.array([ [0.5, -0.6],\n",
    "                 [-0.6, 1.0] ])\n",
    "xy2 = np.random.multivariate_normal(mean, cov, size=100000)"
   ]
  },
  {
   "cell_type": "code",
   "execution_count": null,
   "id": "fd33edb9-7e1a-4cbb-b393-ec53f6076f5e",
   "metadata": {},
   "outputs": [],
   "source": [
    "xy = np.concatenate((xy1, xy2), axis=0)"
   ]
  },
  {
   "cell_type": "code",
   "execution_count": null,
   "id": "79bd0386-866e-4638-80ce-57fa32fd7f1e",
   "metadata": {},
   "outputs": [],
   "source": [
    "fig = plt.figure()\n",
    "ax = fig.add_subplot(111)\n",
    "ax.set_aspect('equal', adjustable='box')\n",
    "plt.xlim(-10, 10)\n",
    "plt.ylim(-10, 10)\n",
    "plt.scatter(xy[:, 0], xy[:, 1])\n",
    "plt.show()"
   ]
  },
  {
   "cell_type": "code",
   "execution_count": null,
   "id": "de7abec4-956f-4359-b600-3641d45b419c",
   "metadata": {},
   "outputs": [],
   "source": [
    "np.set_printoptions(precision=4)\n",
    "np.cov(xy[:, 0], xy[:, 1])"
   ]
  },
  {
   "cell_type": "code",
   "execution_count": null,
   "id": "4d22d14b-3c0e-410d-9794-9a6ea5ea6909",
   "metadata": {},
   "outputs": [],
   "source": [
    "X = xy[:, 0]\n",
    "print(f'mean of X: {X.mean():.4f} / variance of X: {X.var():.4f}')\n",
    "plt.hist(X, bins=100, density=True)\n",
    "plt.show()"
   ]
  },
  {
   "cell_type": "code",
   "execution_count": null,
   "id": "743a64e1-1d2f-4d52-8f94-6a6f0d013485",
   "metadata": {},
   "outputs": [],
   "source": [
    "Y = xy[:, 1]\n",
    "print(f'mean of Y: {Y.mean():.4f} / variance of Y: {Y.var():.4f}')\n",
    "plt.hist(Y, bins=100, density=True)\n",
    "plt.show()"
   ]
  },
  {
   "cell_type": "code",
   "execution_count": null,
   "id": "05f88241-91e2-4fa6-a6a8-4e7e5a007e50",
   "metadata": {},
   "outputs": [],
   "source": [
    "print(f'{(X * Y).mean():.4f}')"
   ]
  },
  {
   "cell_type": "code",
   "execution_count": null,
   "id": "6199e680-b591-440a-b311-ef4789e1de04",
   "metadata": {},
   "outputs": [],
   "source": [
    "print(f'{X.mean() * Y.mean():.4f}')"
   ]
  },
  {
   "cell_type": "markdown",
   "id": "2ce9f9dd-9810-432e-b368-fa6ff7dcb362",
   "metadata": {},
   "source": [
    "# Multiple Random Variables\n",
    "\n",
    "## Random Vectors\n",
    "\n",
    "* We have $n$ random variables, $X_{1}, X_{2}, \\ldots, X_{n}$\n",
    "* Considered these random variables as a vector, $X = [X_{1}, X_{2}, \\ldots, X_{n} ]^{\\top}$\n",
    "* Random vector\n",
    "$$X = \\left[ \\begin{array}{c}\n",
    "X_{1} \\\\\n",
    "X_{2} \\\\\n",
    "\\vdots \\\\\n",
    "X_{n}\n",
    "\\end{array} \\right]$$"
   ]
  },
  {
   "cell_type": "code",
   "execution_count": null,
   "id": "874571a4-0749-4e1e-96ee-af3d0e219e9a",
   "metadata": {},
   "outputs": [],
   "source": [
    "N = 100000\n",
    "mean = np.array([2.0, -1.0, 1.0])\n",
    "cov = np.array([ [0.5, 0.7, -0.3],\n",
    "                 [0.7, 3.0, 0.8],\n",
    "                 [-0.3, 0.8, 2.0] ])\n",
    "X = np.random.multivariate_normal(mean, cov, size=N)"
   ]
  },
  {
   "cell_type": "markdown",
   "id": "0f7476b6-ec26-42b7-854d-e68132995f29",
   "metadata": {},
   "source": [
    "## Covariance Matrix of a Random Vector\n",
    "\n",
    "* Given a random vector $X: \\Omega \\rightarrow \\mathbb{R}^{n}$\n",
    "* Covariance matrix:\n",
    "$$ \\begin{array}{rl}\n",
    "\\boldsymbol{\\Sigma} &= \n",
    "\\left[ \\begin{array}{ccc}\n",
    "\\mathrm{Cov}[X_{1}, X_{1}] & \\cdots & \\mathrm{Cov}[X_{1}, X_{n}] \\\\\n",
    "\\vdots & \\ddots & \\vdots \\\\\n",
    "\\mathrm{Cov}[X_{n}, X_{1}] & \\cdots & \\mathrm{Cov}[X_{n}, X_{n}]\n",
    "\\end{array} \\right] \\\\\n",
    "&=\n",
    "\\mathbb{E}[ XX^{\\top} ] - \\mathbb{E}[X] \\mathbb{E}[X]^{\\top}\n",
    "= \\cdots\n",
    "= \\mathbb{E}[ (X - \\mathbb{E}[X]) (X - \\mathbb{E}[X])^{\\top} ]\n",
    "\\end{array}$$"
   ]
  },
  {
   "cell_type": "code",
   "execution_count": null,
   "id": "bf93a111-9425-43a1-8435-91284aac1692",
   "metadata": {},
   "outputs": [],
   "source": [
    "X.mean(axis=0, keepdims=True)"
   ]
  },
  {
   "cell_type": "code",
   "execution_count": null,
   "id": "1d16e049-ef41-4b9d-81a8-7f2b69561508",
   "metadata": {},
   "outputs": [],
   "source": [
    "X1 = X[:, 0]\n",
    "X2 = X[:, 1]\n",
    "X3 = X[:, 2]\n",
    "cov1 = np.cov([X1, X2, X3])"
   ]
  },
  {
   "cell_type": "code",
   "execution_count": null,
   "id": "f0d6e177-4732-4738-a840-4983c8feab77",
   "metadata": {},
   "outputs": [],
   "source": [
    "cov2 = (np.matmul(X.T, X) / N) - np.matmul(X.mean(axis=0, keepdims=True).T, X.mean(axis=0, keepdims=True))"
   ]
  },
  {
   "cell_type": "code",
   "execution_count": null,
   "id": "357b5f94-2f24-44c1-bc86-2f432c6cc084",
   "metadata": {},
   "outputs": [],
   "source": [
    "cov3 = np.matmul((X - X.mean(axis=0, keepdims=True)).T, (X - X.mean(axis=0, keepdims=True))) / N"
   ]
  },
  {
   "cell_type": "code",
   "execution_count": null,
   "id": "dd0214bd-04de-4766-b5cc-84b340af64c1",
   "metadata": {},
   "outputs": [],
   "source": [
    "print(f'cov1 and cov2 are the same: {np.allclose(cov1, cov2)}')\n",
    "print(f'cov1 and cov3 are the same: {np.allclose(cov1, cov3)}')\n",
    "print(f'cov2 and cov3 are the same: {np.allclose(cov2, cov3)}')"
   ]
  },
  {
   "cell_type": "markdown",
   "id": "811ab9a6-b216-4941-ae48-3d7c50dff597",
   "metadata": {},
   "source": [
    "## Multivariate Normal Distribution\n",
    "\n",
    "<img width=\"300\" src=\"https://user-images.githubusercontent.com/11681225/186937529-bf60ee92-5152-4b67-8610-0545ee2b3b5c.png\">\n",
    "\n",
    "* Probability density function of the multivariate normal (Gaussian) distribution\n",
    "$$\\mathcal{N}(\\boldsymbol{x}; \\boldsymbol{\\mu}, \\boldsymbol{\\Sigma})\n",
    "= \\sqrt{ \\frac{1}{(2 \\pi)^{n} \\mathrm{det}( \\boldsymbol{\\Sigma} )} }\n",
    "\\exp \\left(\n",
    "- \\frac{1}{2} (\\boldsymbol{x} - \\boldsymbol{\\mu})^{\\top}\n",
    "\\boldsymbol{\\Sigma}^{-1} (\\boldsymbol{x} - \\boldsymbol{\\mu}) \\right)$$\n",
    "\n",
    "* Two parameters:\n",
    "  * mean (or expectation): $\\boldsymbol{\\mu} \\in \\mathbb{R}^{n}$\n",
    "  * covariance matrix: $\\boldsymbol{\\Sigma} \\in \\mathbb{R}^{n \\times n}$"
   ]
  },
  {
   "cell_type": "code",
   "execution_count": null,
   "id": "f4579a4f-0250-4d5d-b3ad-af9980a5b8b9",
   "metadata": {},
   "outputs": [],
   "source": [
    "N = 100000\n",
    "mean = np.array([2.0, -1.0, 1.0])\n",
    "cov = np.array([ [0.5, 0.7, -0.3],\n",
    "                 [0.7, 3.0, 0.8],\n",
    "                 [-0.3, 0.8, 2.0] ])\n",
    "X = np.random.multivariate_normal(mean, cov, size=N)"
   ]
  },
  {
   "cell_type": "markdown",
   "id": "53fe1698-7f26-4dd6-83b8-e665efca2693",
   "metadata": {},
   "source": [
    "# Bayes' Theorem\n",
    "\n",
    "## Posterior, Likelihood and Prior\n",
    "\n",
    "* Let $\\boldsymbol{\\theta}$ be the model parameters and $\\mathcal{D}$ be the data\n",
    "<img width=\"600\" alt=\"posterior, likelihood and prior\" src=\"https://user-images.githubusercontent.com/11681225/187081981-d9d328ef-e440-4f9e-87b1-70a54acf2bd2.png\">\n",
    "* **posterior**: the model probability obtained after observing the data $\\mathcal{D}$\n",
    "* **prior**: the model probability available before observing any data $\\mathcal{D}$\n",
    "* **likelihood** [$\\mathcal{L}(\\boldsymbol{\\theta}|\\boldsymbol{x}) = P(X=\\boldsymbol{x} | \\boldsymbol{\\theta})$]: how probable the observed data set is for different parameters\n",
    "  * the function of the model $\\boldsymbol{\\theta}$ given data"
   ]
  },
  {
   "cell_type": "markdown",
   "id": "ce09689a-ffc8-4a98-b599-5606c1ab459b",
   "metadata": {},
   "source": [
    "## Maximum Likelihood Estimation\n",
    "\n",
    "$$\\hat{\\boldsymbol{\\theta}}\n",
    "= \\mathop{\\arg \\max}\\limits_{\\boldsymbol{\\theta}}\n",
    "p(\\boldsymbol{\\mathcal{D}} | \\boldsymbol{\\theta}) \n",
    "= \\mathop{\\arg \\max}\\limits_{\\boldsymbol{\\theta}}\n",
    "\\prod_{i=1}^{n} p(\\boldsymbol{x}^{(i)} | \\boldsymbol{\\theta} )$$\n",
    "\n",
    "## Maximum Log-Likelihood\n",
    "\n",
    "$$\\hat{\\boldsymbol{\\theta}}\n",
    "= \\mathop{\\arg \\max}\\limits_{\\boldsymbol{\\theta}}\n",
    "\\log p(\\boldsymbol{\\mathcal{D}} | \\boldsymbol{\\theta}) \n",
    "= \\mathop{\\arg \\max}\\limits_{\\boldsymbol{\\theta}}\n",
    "\\log \\left[ \\prod_{i=1}^{n} p(\\boldsymbol{x}^{(i)} | \\boldsymbol{\\theta} ) \\right]\n",
    "= \\mathop{\\arg \\max}\\limits_{\\boldsymbol{\\theta}}\n",
    "\\sum_{i=1}^{n} \\log p(\\boldsymbol{x}^{(i)} | \\boldsymbol{\\theta} )\n",
    "$$"
   ]
  },
  {
   "cell_type": "code",
   "execution_count": null,
   "id": "66cc4205-a470-4ce2-8a07-54528e9a5a46",
   "metadata": {},
   "outputs": [],
   "source": [
    "N = 10000\n",
    "mean, std = -3.0, 2.0\n",
    "x = np.random.normal(loc=mean, scale=std, size=(N, 1))\n",
    "x = torch.tensor(x, dtype=torch.float32)"
   ]
  },
  {
   "cell_type": "code",
   "execution_count": null,
   "id": "ede74e80-23da-47bc-bca8-2d3945eeac5e",
   "metadata": {},
   "outputs": [],
   "source": [
    "class LikelihoodNormalDist(nn.Module):\n",
    "  def __init__(self, mu, sigma):\n",
    "    super(LikelihoodNormalDist, self).__init__()\n",
    "    self.mu = nn.Parameter(torch.tensor(mu, dtype=torch.float32))\n",
    "    self.sigma = nn.Parameter(torch.tensor(sigma, dtype=torch.float32))\n",
    "    \n",
    "  def forward(self, x):\n",
    "    return torch.sqrt(1 / (2 * np.pi * self.sigma**2)) * torch.exp(- (x - self.mu)**2 / (2 * self.sigma**2))"
   ]
  },
  {
   "cell_type": "code",
   "execution_count": null,
   "id": "dda0fb64-4c87-44ba-86dc-061ac38b7c0c",
   "metadata": {},
   "outputs": [],
   "source": [
    "model = LikelihoodNormalDist(2, 1)\n",
    "optimizer = optim.SGD(model.parameters(), lr=0.01)\n",
    "# optimizer = optim.Adam(model.parameters(), lr=0.01)"
   ]
  },
  {
   "cell_type": "code",
   "execution_count": null,
   "id": "966c1780-8d28-43c9-9479-265378918f5d",
   "metadata": {},
   "outputs": [],
   "source": [
    "max_epoch = 10000\n",
    "m, s = np.zeros(max_epoch), np.zeros(max_epoch)\n",
    "for epoch in range(max_epoch):\n",
    "  likelihood = model(x)\n",
    "  log_likelihood = torch.log(likelihood)\n",
    "  loss = - torch.mean(log_likelihood)\n",
    "  # print(f'epoch: {epoch} / loss: {loss.item():.4f}')\n",
    "  \n",
    "  m[epoch] = model.mu.data.item()\n",
    "  s[epoch] = model.sigma.data.item()\n",
    "  \n",
    "  optimizer.zero_grad()\n",
    "  loss.backward()\n",
    "  optimizer.step()"
   ]
  },
  {
   "cell_type": "code",
   "execution_count": null,
   "id": "61a9f2b2-27d7-4f2f-ace4-d9af3cdde3a2",
   "metadata": {},
   "outputs": [],
   "source": [
    "print(f'estimated mean: {model.mu.data.item():.4f}')\n",
    "print(f'estimated std: {model.sigma.data.item():.4f}')"
   ]
  },
  {
   "cell_type": "code",
   "execution_count": null,
   "id": "b7fb8b2b-1684-4315-a8b0-4665ff152352",
   "metadata": {},
   "outputs": [],
   "source": [
    "def mesh_plot(X, Y, xlim=2, ylim=2):\n",
    "  fig = plt.figure()\n",
    "  ax = fig.add_subplot(111)\n",
    "  plt.plot(X, Y, ls='None', marker='.')\n",
    "  plt.xlim(-xlim, xlim)\n",
    "  plt.ylim(-ylim, ylim)\n",
    "  plt.axvline(x=0, color='black')\n",
    "  plt.axhline(y=0, color='black')\n",
    "  ax.set_aspect('equal', adjustable='box')\n",
    "  plt.show()"
   ]
  },
  {
   "cell_type": "code",
   "execution_count": null,
   "id": "1d3593d8-db79-4f93-8e9a-ad369c767b4b",
   "metadata": {},
   "outputs": [],
   "source": [
    "mesh_plot(m, s, xlim=5, ylim=5)"
   ]
  },
  {
   "cell_type": "code",
   "execution_count": null,
   "id": "991e7e37-d2c0-4ec6-9bce-a1ccc3b8aae7",
   "metadata": {},
   "outputs": [],
   "source": []
  },
  {
   "cell_type": "code",
   "execution_count": null,
   "id": "c73283f3-c515-40a0-a2f9-f99db00da8fe",
   "metadata": {},
   "outputs": [],
   "source": []
  }
 ],
 "metadata": {
  "kernelspec": {
   "display_name": "Python [conda env:laidd22math] *",
   "language": "python",
   "name": "conda-env-laidd22math-py"
  },
  "language_info": {
   "codemirror_mode": {
    "name": "ipython",
    "version": 3
   },
   "file_extension": ".py",
   "mimetype": "text/x-python",
   "name": "python",
   "nbconvert_exporter": "python",
   "pygments_lexer": "ipython3",
   "version": "3.8.13"
  },
  "toc": {
   "base_numbering": 1,
   "nav_menu": {},
   "number_sections": true,
   "sideBar": true,
   "skip_h1_title": false,
   "title_cell": "Table of Contents",
   "title_sidebar": "Contents",
   "toc_cell": false,
   "toc_position": {},
   "toc_section_display": true,
   "toc_window_display": false
  },
  "toc-autonumbering": true,
  "toc-showcode": true,
  "toc-showmarkdowntxt": false
 },
 "nbformat": 4,
 "nbformat_minor": 5
}
