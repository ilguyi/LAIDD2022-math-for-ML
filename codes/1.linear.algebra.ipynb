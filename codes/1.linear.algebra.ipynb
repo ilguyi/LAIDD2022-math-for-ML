{
 "cells": [
  {
   "cell_type": "code",
   "execution_count": null,
   "id": "8f27a8ba-25f1-4ae5-83ef-857898c22bcd",
   "metadata": {
    "ExecuteTime": {
     "end_time": "2022-08-10T09:02:33.430350Z",
     "start_time": "2022-08-10T09:02:32.788250Z"
    }
   },
   "outputs": [],
   "source": [
    "import torch\n",
    "import torch.nn as nn\n",
    "import numpy as np\n",
    "import matplotlib.pyplot as plt\n",
    "\n",
    "from copy import deepcopy"
   ]
  },
  {
   "cell_type": "code",
   "execution_count": null,
   "id": "8a764449-2692-4766-878e-61219f2755c8",
   "metadata": {
    "ExecuteTime": {
     "end_time": "2022-08-10T09:02:34.223994Z",
     "start_time": "2022-08-10T09:02:34.187104Z"
    }
   },
   "outputs": [],
   "source": [
    "torch.backends.mps.is_available()"
   ]
  },
  {
   "cell_type": "markdown",
   "id": "88244b85-3272-4777-864b-ae18873ad849",
   "metadata": {},
   "source": [
    "# Mathematical Objects\n",
    "## Scalars, Vectors, Matrices and Tensors\n",
    "\n",
    "* A scalar ( $a$ ): just single number, (italic, lowercase)\n",
    "* A vector ( $\\boldsymbol{a}$ ): an array of numbers, (bold typeface, lowercase)\n",
    "* A matrix ( $\\boldsymbol{A}$ ): 2-D array of numbers, (bold typeface, uppercase)\n",
    "* A tensor ( $\\boldsymbol{\\mathsf{A}}$ ): n-D array of numbers"
   ]
  },
  {
   "cell_type": "code",
   "execution_count": null,
   "id": "db270539-63e4-40db-be3a-bb916e3f81c2",
   "metadata": {},
   "outputs": [],
   "source": [
    "np.random.seed(219)\n",
    "np.set_printoptions(precision=4)\n",
    "\n",
    "a = 1  # scalar\n",
    "b = np.array([2, 3, 4])  # vector\n",
    "c = np.array([ [2, 3, 4],\n",
    "               [5, 6, 7] ])  # matrix\n",
    "d = np.random.uniform(size=(2, 2, 3))  # 3-rank tensor\n",
    "e = np.random.uniform(size=(2, 2, 3, 4))  # 4-rank tensor\n",
    "\n",
    "print(f'scalar: {a}')\n",
    "print(f'vector: {b}')\n",
    "print(f'matrix:\\n{c}')\n",
    "print(f'3-rank tensor:\\n{d}')\n",
    "print(f'4-rank tensor:\\n{e}')"
   ]
  },
  {
   "cell_type": "code",
   "execution_count": null,
   "id": "725f3808-028e-4963-b5de-9684a2ad2710",
   "metadata": {},
   "outputs": [],
   "source": [
    "torch.manual_seed(219)\n",
    "\n",
    "a = 1  # scalar\n",
    "b = torch.tensor([2, 3, 4])  # vector\n",
    "c = torch.tensor([ [2, 3, 4],\n",
    "                   [5, 6, 7] ])  # matrix\n",
    "d = torch.rand(size=(2, 2, 3))  # 3-rank tensor\n",
    "e = torch.rand(size=(2, 2, 3, 4))  # 4-rank tensor\n",
    "\n",
    "print(f'scalar: {a}')\n",
    "print(f'vector: {b}')\n",
    "print(f'matrix:\\n{c}')\n",
    "print(f'3-rank tensor:\\n{d}')\n",
    "print(f'4-rank tensor:\\n{e}')"
   ]
  },
  {
   "cell_type": "markdown",
   "id": "fc133fa0-363e-4e0d-ae8d-396a72561d49",
   "metadata": {},
   "source": [
    "### Tensor shape\n",
    "\n",
    "<img width=\"600\" src=\"https://user-images.githubusercontent.com/11681225/183875482-8fbdeeb2-09fc-4e54-b8c0-7554b81a64db.png\">"
   ]
  },
  {
   "cell_type": "code",
   "execution_count": null,
   "id": "d86707d9-ffce-45ab-b268-e8f940c2a92a",
   "metadata": {},
   "outputs": [],
   "source": [
    "v = np.arange(3 * 2 * 5)\n",
    "v = v.reshape(3, 2, 5)\n",
    "print(v)"
   ]
  },
  {
   "cell_type": "code",
   "execution_count": null,
   "id": "7089909d-a29e-4bfd-a8c8-93a2a39784d1",
   "metadata": {},
   "outputs": [],
   "source": [
    "w = torch.arange(3 * 2 * 5)\n",
    "w = w.reshape(3, 2, 5)\n",
    "print(w)"
   ]
  },
  {
   "cell_type": "markdown",
   "id": "a26bbc10-bb66-468f-b038-621a65dd4e77",
   "metadata": {},
   "source": [
    "## Rank, Dimension and Shape of Tensor\n",
    "\n",
    "<img width=\"300\" alt=\"image\" src=\"https://user-images.githubusercontent.com/11681225/183872452-e9648e4c-e96c-4f2f-ad74-a7136ecea0a9.png\">"
   ]
  },
  {
   "cell_type": "code",
   "execution_count": null,
   "id": "f1ce71aa-a318-4b31-8a53-db515f0598be",
   "metadata": {},
   "outputs": [],
   "source": [
    "np.random.seed(219)\n",
    "np.set_printoptions(precision=4)\n",
    "# v = np.random.normal(size=(3, 2, 4, 5))\n",
    "v = np.arange(3 * 2 * 4 * 5)\n",
    "v = v.reshape(3, 2, 4, 5)\n",
    "print(v.shape)"
   ]
  },
  {
   "cell_type": "code",
   "execution_count": null,
   "id": "79f81416-d574-4692-95f7-25cc5356e902",
   "metadata": {},
   "outputs": [],
   "source": [
    "torch.manual_seed(219)\n",
    "# w = torch.randn(size=(3, 2, 4, 5))\n",
    "w = torch.arange(3 * 2 * 4 * 5)\n",
    "w = w.reshape(3, 2, 4, 5)\n",
    "print(w.shape)"
   ]
  },
  {
   "cell_type": "markdown",
   "id": "c425045c-e52f-4acc-9edd-6fe571059389",
   "metadata": {},
   "source": [
    "### Slice of tensor"
   ]
  },
  {
   "cell_type": "markdown",
   "id": "bf103ed4-80fe-4fc8-9db0-97a5875b4575",
   "metadata": {},
   "source": [
    "<img width=\"300\" alt=\"image\" src=\"https://user-images.githubusercontent.com/11681225/183872452-e9648e4c-e96c-4f2f-ad74-a7136ecea0a9.png\">"
   ]
  },
  {
   "cell_type": "code",
   "execution_count": null,
   "id": "68ec5915-6874-4318-8f1f-c677d5ebcaf3",
   "metadata": {},
   "outputs": [],
   "source": [
    "# 녹색블럭만 분리하기\n",
    "v1 = v[2]\n",
    "w1 = w[2]\n",
    "print(f'v1 shape: {v1.shape}, w1 shape: {w1.shape}')"
   ]
  },
  {
   "cell_type": "code",
   "execution_count": null,
   "id": "84864d1d-5fad-4602-b890-02fcada0f2a3",
   "metadata": {},
   "outputs": [],
   "source": [
    "# 맨 오른쪽 블럭들만 분리하기\n",
    "v2 = v[:, :, -1, :]\n",
    "w2 = w[:, :, -1, :]\n",
    "print(f'v2 shape: {v2.shape}, w2 shape: {w2.shape}')"
   ]
  },
  {
   "cell_type": "code",
   "execution_count": null,
   "id": "5290fd6d-a66c-4b53-accf-0b979560111c",
   "metadata": {},
   "outputs": [],
   "source": [
    "# 파란색 블럭의 윗면만 분리하기\n",
    "v3 = v[1, 0, :, :]\n",
    "w3 = w[1, 0, :, :]\n",
    "print(f'v3 shape: {v3.shape}, w3 shape: {w3.shape}')"
   ]
  },
  {
   "cell_type": "code",
   "execution_count": null,
   "id": "baeae8ac-6284-4996-bfc0-0a5a3b803097",
   "metadata": {},
   "outputs": [],
   "source": []
  },
  {
   "cell_type": "code",
   "execution_count": null,
   "id": "33316683-70ac-4794-88ae-417410884fb8",
   "metadata": {},
   "outputs": [],
   "source": []
  },
  {
   "cell_type": "markdown",
   "id": "59ff56fc-bd9c-4bfb-9ba9-4f2282d5072b",
   "metadata": {},
   "source": [
    "# Basic Operations of Matrices\n",
    "## Basic Operations of Matrices I\n",
    "### Addition of two vectors\n",
    "\n",
    "* Two vectors must have the same shape ( $\\boldsymbol{u}, \\boldsymbol{v} \\in \\mathbb{R}^{n}$ )\n",
    "$$\\boldsymbol{w} = \\boldsymbol{u} + \\boldsymbol{v}\\\\\n",
    "w_{i} = u_{i} + v_{i}$$"
   ]
  },
  {
   "cell_type": "code",
   "execution_count": null,
   "id": "5ab07ccc-6cfd-4d60-b0a0-cfacf7db1727",
   "metadata": {},
   "outputs": [],
   "source": [
    "def draw_vector_addition(a=np.array([2, 1]), b=np.array([1, 4])):\n",
    "  a = np.array(a)\n",
    "  b = np.array(b)\n",
    "  assert a.shape == (2,) and b.shape == (2,)\n",
    "  c = a + b\n",
    "  # draw figure code ref.:http://datascienceschool.net/02%20mathematics/03.01%20선형대수와%20해석기하의%20기초.html\n",
    "  # modified by Il Gu Yi\n",
    "  fig = plt.figure()\n",
    "  gray = {'facecolor': 'gray'}\n",
    "  black = {'facecolor': 'black'}\n",
    "  ax = fig.add_subplot(111)\n",
    "  ax.set_aspect('equal', adjustable='box')\n",
    "  plt.annotate('', xy=a, xytext=(0, 0), arrowprops=gray)\n",
    "  plt.annotate('', xy=b, xytext=(0, 0), arrowprops=gray)\n",
    "  plt.annotate('', xy=c, xytext=(0, 0), arrowprops=black)\n",
    "  plt.plot(0, 0, 'kP', ms=10)\n",
    "  plt.plot(a[0], a[1], 'ro', ms=10)\n",
    "  plt.plot(b[0], b[1], 'ro', ms=10)\n",
    "  plt.plot(c[0], c[1], 'ro', ms=10)\n",
    "  plt.plot([a[0], c[0]], [a[1], c[1]], 'k--')\n",
    "  plt.plot([b[0], c[0]], [b[1], c[1]], 'k--')\n",
    "\n",
    "  right = np.max([a[0], b[0], c[0], 0])\n",
    "  left = np.min([a[0], b[0], c[0], 0])\n",
    "  up = np.max([a[1], b[1], c[1], 0])\n",
    "  down = np.min([a[1], b[1], c[1], 0])\n",
    "  # left = down = np.min([left, down])\n",
    "  # right = up = np.max([right, up])\n",
    "  x_scale = (right - left) / 5.\n",
    "  y_scale = (up - down) / 5.\n",
    "  plt.xticks(np.arange(left, right + x_scale, x_scale * 2))\n",
    "  plt.yticks(np.arange(down, up + y_scale, y_scale * 2))\n",
    "  plt.xlim(left - x_scale, right + x_scale)\n",
    "  plt.ylim(down - y_scale, up + y_scale)\n",
    "  plt.show()"
   ]
  },
  {
   "cell_type": "code",
   "execution_count": null,
   "id": "f8b3162b-c116-4036-b4d8-58dcea5c8021",
   "metadata": {},
   "outputs": [],
   "source": [
    "draw_vector_addition([20, 10], [-20, 40])"
   ]
  },
  {
   "cell_type": "code",
   "execution_count": null,
   "id": "03ca7c44-8523-42e9-a20c-71f57bc9a28c",
   "metadata": {},
   "outputs": [],
   "source": [
    "# Addition of two vectors\n",
    "u = torch.tensor([1, 2, 3])\n",
    "v = torch.tensor([4, 5, 6])\n",
    "w = u + v\n",
    "print(f'{u.numpy()} + {v.numpy()} = {w.numpy()}')"
   ]
  },
  {
   "cell_type": "code",
   "execution_count": null,
   "id": "7e8f13f0-d6e9-4290-9d74-18a6a411ba0d",
   "metadata": {},
   "outputs": [],
   "source": [
    "# Addition of two vectors with different size\n",
    "# Error!!\n",
    "u = torch.tensor([1, 2, 3])\n",
    "v = torch.tensor([4, 5])\n",
    "w = u + v"
   ]
  },
  {
   "cell_type": "markdown",
   "id": "9a86be81-30a2-42ea-899b-46a6dc419223",
   "metadata": {},
   "source": [
    "### Scalar multiplication\n",
    "\n",
    "* $\\boldsymbol{u} \\in \\mathbb{R}^{n}$, $c \\in \\mathbb{R}$\n",
    "$$\\boldsymbol{v} = c \\cdot \\boldsymbol{u}\\\\\n",
    "v_{i} = c \\cdot u_{i}$$"
   ]
  },
  {
   "cell_type": "code",
   "execution_count": null,
   "id": "7b4cdd75-5afe-4ca9-95c0-86f97ab92e80",
   "metadata": {},
   "outputs": [],
   "source": [
    "# Scalar multiplication\n",
    "def draw_scalar_multiplication(a=np.array([2, 1]), c=2):\n",
    "  a = np.array(a)\n",
    "  assert a.shape == (2,)\n",
    "  b = c * a\n",
    "  minus_a = -a\n",
    "\n",
    "  fig = plt.figure()\n",
    "  gray = {'facecolor': 'gray'}\n",
    "  red = {'facecolor': 'red'}\n",
    "  blue = {'facecolor': 'blue'}\n",
    "  ax = fig.add_subplot(111)\n",
    "  ax.set_aspect('equal', adjustable='box')\n",
    "  plt.annotate('', xy=b, xytext=(0, 0), arrowprops=red)\n",
    "  plt.annotate('', xy=a, xytext=(0, 0), arrowprops=gray)\n",
    "  plt.annotate('', xy=minus_a, xytext=(0, 0), arrowprops=blue)\n",
    "  plt.plot(0, 0, 'ro', ms=15)\n",
    "\n",
    "  right = np.max([a[0], b[0], minus_a[0], 0])\n",
    "  left = np.min([a[0], b[0], minus_a[0], 0])\n",
    "  up = np.max([a[1], b[1], minus_a[1], 0])\n",
    "  down = np.min([a[1], b[1], minus_a[1], 0])\n",
    "  left = down = np.min([left, down])\n",
    "  right = up = np.max([right, up])\n",
    "  x_scale = (right - left) / 10.\n",
    "  y_scale = (up - down) / 10.\n",
    "  plt.xticks(np.arange(left, right + x_scale, x_scale * 2))\n",
    "  plt.yticks(np.arange(down, up + y_scale, y_scale * 2))\n",
    "  plt.xlim(left - x_scale, right + x_scale)\n",
    "  plt.ylim(down - y_scale, up + y_scale)\n",
    "  plt.show()"
   ]
  },
  {
   "cell_type": "code",
   "execution_count": null,
   "id": "efb81d5f-9a12-42d5-b7fd-fa4e2d806bc8",
   "metadata": {},
   "outputs": [],
   "source": [
    "draw_scalar_multiplication([2, 1], 2)"
   ]
  },
  {
   "cell_type": "code",
   "execution_count": null,
   "id": "07aefa59-8ce4-4daa-9b32-8ff7d6f6fc7b",
   "metadata": {},
   "outputs": [],
   "source": [
    "# Scalar multiplication\n",
    "a = 2\n",
    "u = torch.tensor([1, 2, 3])\n",
    "v = a * u\n",
    "print(f'{a} x {u.numpy()} = {v.numpy()}')"
   ]
  },
  {
   "cell_type": "markdown",
   "id": "d65df1a9-1ddc-4b13-bd0c-5968332ce4c7",
   "metadata": {},
   "source": [
    "### Addition of two matrices\n",
    "\n",
    "* Two matrices must have the same shape ( $\\boldsymbol{A}, \\boldsymbol{B} \\in \\mathbb{R}^{m \\times n}$ )\n",
    "$$\\boldsymbol{C} = \\boldsymbol{A} + \\boldsymbol{B}\\\\\n",
    "c_{ij} = a_{ij} + b_{ij}$$"
   ]
  },
  {
   "cell_type": "code",
   "execution_count": null,
   "id": "be898d43-413b-4753-823e-d89ae1ffd1b4",
   "metadata": {},
   "outputs": [],
   "source": [
    "# Addition of two matrices\n",
    "row = 2\n",
    "col = 2\n",
    "u = torch.arange(row * col).reshape(row, col)\n",
    "v = (torch.arange(row * col) + row * col).reshape(row, col)\n",
    "w = u + v\n",
    "print(f'u:\\n{u.numpy()}')\n",
    "print(f'v:\\n{v.numpy()}')\n",
    "print(f'w:\\n{w.numpy()}')"
   ]
  },
  {
   "cell_type": "code",
   "execution_count": null,
   "id": "dd80d87e-aa2c-473a-bf56-ef46c1cdb609",
   "metadata": {},
   "outputs": [],
   "source": [
    "# Addition of two matrices with different size\n",
    "# Error!!\n",
    "row = 2\n",
    "col = 2\n",
    "col1 = 3\n",
    "u = torch.arange(row * col).reshape(row, col)  # shape of u: (2, 2)\n",
    "v = (torch.arange(row * col1) + row * col).reshape(row, col1)  # shape of v: (2, 3)\n",
    "w = u + v"
   ]
  },
  {
   "cell_type": "code",
   "execution_count": null,
   "id": "a0863309-183f-4292-8b31-a367ae1a12dd",
   "metadata": {},
   "outputs": [],
   "source": [
    "# Addition of two matrices with different size\n",
    "# Error!!\n",
    "row = 2\n",
    "col = 2\n",
    "row1 = 3\n",
    "u = torch.arange(row * col).reshape(row, col)  # shape of u: (2, 2)\n",
    "v = (torch.arange(row1 * col) + row * col).reshape(row1, col)  # shape of v: (3, 2)\n",
    "w = u + v"
   ]
  },
  {
   "cell_type": "markdown",
   "id": "03e0520c-fd5f-4512-9dea-488b0ab815d2",
   "metadata": {},
   "source": [
    "### Broadcasting I\n",
    "\n",
    "$$\n",
    "\\left[ \\begin{array}{cc}\n",
    "0 & 1 \\\\\n",
    "2 & 3 \\\\\n",
    "\\end{array} \\right]\n",
    "+ \\left[ \\begin{array}{cc}\n",
    "4 & 5\n",
    "\\end{array} \\right]\n",
    "= \\left[ \\begin{array}{cc}\n",
    "4 & 6 \\\\\n",
    "6 & 8 \\\\\n",
    "\\end{array} \\right]\n",
    "\\implies\n",
    "\\left[ \\begin{array}{cc}\n",
    "0 & 1 \\\\\n",
    "2 & 3 \\\\\n",
    "\\end{array} \\right]\n",
    "+ \\left[ \\begin{array}{cc}\n",
    "4 & 5 \\\\\n",
    "4 & 5 \\\\\n",
    "\\end{array} \\right]\n",
    "= \\left[ \\begin{array}{cc}\n",
    "4 & 6 \\\\\n",
    "6 & 8 \\\\\n",
    "\\end{array} \\right]\n",
    "$$"
   ]
  },
  {
   "cell_type": "code",
   "execution_count": null,
   "id": "85a298a8-415c-4e35-afa3-5be83affeba9",
   "metadata": {},
   "outputs": [],
   "source": [
    "# Addition of two matrices with different size\n",
    "# Error??\n",
    "row = 2\n",
    "col = 2\n",
    "row1 = 1\n",
    "u = torch.arange(row * col).reshape(row, col)  # shape of u: (2, 2)\n",
    "v = (torch.arange(row1 * col) + row * col).reshape(row1, col)  # shape of v: (1, 2)\n",
    "w = u + v\n",
    "print(f'u:\\n{u.numpy()}')\n",
    "print(f'v:\\n{v.numpy()}')\n",
    "print(f'w:\\n{w.numpy()}')"
   ]
  },
  {
   "cell_type": "code",
   "execution_count": null,
   "id": "bf24b473-a0c6-4094-9641-239b49b92ff2",
   "metadata": {},
   "outputs": [],
   "source": [
    "print(v.shape)  # matrix"
   ]
  },
  {
   "cell_type": "code",
   "execution_count": null,
   "id": "94ef32d4-dd7e-4bff-b64b-469f81f1b50a",
   "metadata": {},
   "outputs": [],
   "source": [
    "# Addition of a matrix and a vector\n",
    "# Error??\n",
    "row = 2\n",
    "col = 2\n",
    "row1 = 1\n",
    "u = torch.arange(row * col).reshape(row, col)  # shape of u: (2, 2)\n",
    "v = (torch.arange(row1 * col) + row * col).reshape(col)  # shape of v: (2)\n",
    "w = u + v\n",
    "print(f'u:\\n{u.numpy()}')\n",
    "print(f'v:\\n{v.numpy()}')\n",
    "print(f'w:\\n{w.numpy()}')"
   ]
  },
  {
   "cell_type": "code",
   "execution_count": null,
   "id": "d739ce78-1e67-4b06-9aa1-ff5daa153aca",
   "metadata": {},
   "outputs": [],
   "source": [
    "print(v.shape)  # vector"
   ]
  },
  {
   "cell_type": "markdown",
   "id": "38bf8673-ec77-4d7c-b988-add500143a08",
   "metadata": {},
   "source": [
    "### Broadcasting II\n",
    "\n",
    "$$\n",
    "\\left[ \\begin{array}{c}\n",
    "\\left[ \\begin{array}{ccc}\n",
    "0 & 1 & 2 \\\\\n",
    "3 & 4 & 5 \\\\\n",
    "\\end{array} \\right]\\\\\n",
    "\\left[ \\begin{array}{ccc}\n",
    "6 & 7 & 8 \\\\\n",
    "9 & 10 & 11 \\\\\n",
    "\\end{array} \\right]\n",
    "\\end{array} \\right]\n",
    "+ \n",
    "\\left[ \\begin{array}{ccc}\n",
    "12 & 13 & 14 \\\\\n",
    "15 & 16 & 17 \\\\\n",
    "\\end{array} \\right]\n",
    "\\implies\n",
    "\\left[ \\begin{array}{c}\n",
    "\\left[ \\begin{array}{ccc}\n",
    "0 & 1 & 2 \\\\\n",
    "3 & 4 & 5 \\\\\n",
    "\\end{array} \\right]\\\\\n",
    "\\left[ \\begin{array}{ccc}\n",
    "6 & 7 & 8 \\\\\n",
    "9 & 10 & 11 \\\\\n",
    "\\end{array} \\right]\n",
    "\\end{array} \\right]\n",
    "+ \n",
    "\\left[ \\begin{array}{c}\n",
    "\\left[ \\begin{array}{ccc}\n",
    "12 & 13 & 14 \\\\\n",
    "15 & 16 & 17 \\\\\n",
    "\\end{array} \\right]\\\\\n",
    "\\left[ \\begin{array}{ccc}\n",
    "12 & 13 & 14 \\\\\n",
    "15 & 16 & 17 \\\\\n",
    "\\end{array} \\right]\n",
    "\\end{array} \\right]\n",
    "=\n",
    "\\left[ \\begin{array}{c}\n",
    "\\left[ \\begin{array}{ccc}\n",
    "12 & 14 & 16 \\\\\n",
    "18 & 20 & 22 \\\\\n",
    "\\end{array} \\right]\\\\\n",
    "\\left[ \\begin{array}{ccc}\n",
    "18 & 20 & 22 \\\\\n",
    "24 & 26 & 28 \\\\\n",
    "\\end{array} \\right]\n",
    "\\end{array} \\right]\n",
    "$$"
   ]
  },
  {
   "cell_type": "code",
   "execution_count": null,
   "id": "ae7cb878-c1b7-4d8f-894c-bccf5336d802",
   "metadata": {},
   "outputs": [],
   "source": [
    "# Addition of a 3-rank tensor and a 2-rank tensor\n",
    "# Error??\n",
    "a0 = 2  # axis-0\n",
    "a1 = 2  # axis-1\n",
    "a2 = 3  # axis-2\n",
    "b = 1\n",
    "u = torch.arange(a0 * a1 * a2).reshape(a0, a1, a2)  # shape of u: (2, 2, 3)\n",
    "v = (torch.arange(a1 * a2) + a0 * a1 * a2).reshape(a1, a2)  # shape of v: (2, 3)\n",
    "# v = (torch.arange(b * a1 * a2) + a0 * a1 * a2).reshape(b, a1, a2)  # shape of v: (1, 2, 3)\n",
    "# v = (torch.arange(a0 * a1) + a0 * a1 * a2).reshape(a0, a1)  # shape of v: (2, 2)  ## Error!!\n",
    "w = u + v\n",
    "print(f'u shape: {u.shape}\\n{u.numpy()}\\n')\n",
    "print(f'v shape: {v.shape}\\n{v.numpy()}\\n')\n",
    "print(f'w shape: {w.shape}\\n{w.numpy()}\\n')"
   ]
  },
  {
   "cell_type": "markdown",
   "id": "8b35f7ea-1dbb-4862-8c92-e097400ca610",
   "metadata": {},
   "source": [
    "### Broadcasting III\n",
    "\n",
    "$$\n",
    "\\left[ \\begin{array}{c}\n",
    "\\left[ \\begin{array}{ccc}\n",
    "0 & 1 & 2 \\\\\n",
    "3 & 4 & 5 \\\\\n",
    "\\end{array} \\right]\\\\\n",
    "\\left[ \\begin{array}{ccc}\n",
    "6 & 7 & 8 \\\\\n",
    "9 & 10 & 11 \\\\\n",
    "\\end{array} \\right]\n",
    "\\end{array} \\right]\n",
    "+ \n",
    "\\left[ \\begin{array}{c}\n",
    "\\left[ \\begin{array}{ccc}\n",
    "12 & 13 & 14 \\\\\n",
    "\\end{array} \\right]\\\\\n",
    "\\left[ \\begin{array}{ccc}\n",
    "15 & 16 & 17 \\\\\n",
    "\\end{array} \\right]\n",
    "\\end{array} \\right]\n",
    "\\implies\n",
    "\\left[ \\begin{array}{c}\n",
    "\\left[ \\begin{array}{ccc}\n",
    "0 & 1 & 2 \\\\\n",
    "3 & 4 & 5 \\\\\n",
    "\\end{array} \\right]\\\\\n",
    "\\left[ \\begin{array}{ccc}\n",
    "6 & 7 & 8 \\\\\n",
    "9 & 10 & 11 \\\\\n",
    "\\end{array} \\right]\n",
    "\\end{array} \\right]\n",
    "+ \n",
    "\\left[ \\begin{array}{c}\n",
    "\\left[ \\begin{array}{ccc}\n",
    "12 & 13 & 14 \\\\\n",
    "12 & 13 & 14 \\\\\n",
    "\\end{array} \\right]\\\\\n",
    "\\left[ \\begin{array}{ccc}\n",
    "15 & 16 & 17 \\\\\n",
    "15 & 16 & 17 \\\\\n",
    "\\end{array} \\right]\n",
    "\\end{array} \\right]\n",
    "=\n",
    "\\left[ \\begin{array}{c}\n",
    "\\left[ \\begin{array}{ccc}\n",
    "12 & 14 & 16 \\\\\n",
    "15 & 17 & 19 \\\\\n",
    "\\end{array} \\right]\\\\\n",
    "\\left[ \\begin{array}{ccc}\n",
    "21 & 23 & 25 \\\\\n",
    "24 & 26 & 28 \\\\\n",
    "\\end{array} \\right]\n",
    "\\end{array} \\right]\n",
    "$$"
   ]
  },
  {
   "cell_type": "code",
   "execution_count": null,
   "id": "3a8b8487-1b29-4874-b86e-fcffd2f77d9a",
   "metadata": {},
   "outputs": [],
   "source": [
    "# Addition of two 3-rank tensors with different size\n",
    "# Error??\n",
    "a0 = 2  # axis-0\n",
    "a1 = 2  # axis-1\n",
    "a2 = 3  # axis-2\n",
    "b = 1\n",
    "u = torch.arange(a0 * a1 * a2).reshape(a0, a1, a2)  # shape of u: (2, 2, 3)\n",
    "v = (torch.arange(a1 * a2) + a0 * a1 * a2).reshape(a1, a2)  # shape of v: (2, 3)\n",
    "# v = (torch.arange(a0 * b * a2) + a0 * a1 * a2).reshape(a0, b, a2)  # shape of v: (2, 1, 3)\n",
    "w = u + v\n",
    "print(f'u shape: {u.size()}\\n{u.numpy()}\\n')\n",
    "print(f'v shape: {v.shape}\\n{v.numpy()}\\n')\n",
    "print(f'w shape: {w.shape}\\n{w.numpy()}\\n')"
   ]
  },
  {
   "cell_type": "markdown",
   "id": "823dc4a7-8ac3-44c8-9b5f-5e01d3874811",
   "metadata": {},
   "source": [
    "## Basic Operations of Matrices II\n",
    "### Hadamard product\n",
    "\n",
    "* Two matrices must have the same shape ( $\\boldsymbol{A}, \\boldsymbol{B} \\in \\mathbb{R}^{m \\times n}$ )\n",
    "* Element-wise product\n",
    "$$\\boldsymbol{C} = \\boldsymbol{A} \\odot \\boldsymbol{B}\\\\\n",
    "c_{ij} = a_{ij} \\cdot b_{ij}$$"
   ]
  },
  {
   "cell_type": "code",
   "execution_count": null,
   "id": "4a3bf560-500a-4899-81e4-5a00658bff65",
   "metadata": {},
   "outputs": [],
   "source": [
    "# Hardmard product of two matrices\n",
    "a0 = 2  # axis-0\n",
    "a1 = 3  # axis-1\n",
    "u = torch.arange(a0 * a1).reshape(a0, a1)  # shape of u: (2, 3)\n",
    "v = (torch.arange(a0 * a1) + a0 * a1).reshape(a0, a1)  # shape of v: (2, 3)\n",
    "w = u * v\n",
    "# w = torch.mul(u, v)\n",
    "print(f'u shape: {u.size()}\\n{u.numpy()}\\n')\n",
    "print(f'v shape: {v.shape}\\n{v.numpy()}\\n')\n",
    "print(f'w shape: {w.shape}\\n{w.numpy()}\\n')"
   ]
  },
  {
   "cell_type": "code",
   "execution_count": null,
   "id": "9c7d6f7e-f63f-43d3-b3fb-da09aadba372",
   "metadata": {},
   "outputs": [],
   "source": [
    "# Hardmard product of two 3-rank tensors\n",
    "a0 = 2  # axis-0\n",
    "a1 = 2  # axis-1\n",
    "a2 = 3  # axis-1\n",
    "u = torch.arange(a0 * a1 * a2).reshape(a0, a1, a2)  # shape of u: (2, 2, 3)\n",
    "v = (torch.arange(a0 * a1 * a2) + a0 * a1 * a2).reshape(a0, a1, a2)  # shape of v: (2, 2, 3)\n",
    "w = u * v\n",
    "# w = torch.mul(u, v)\n",
    "print(f'u shape: {u.size()}\\n{u.numpy()}\\n')\n",
    "print(f'v shape: {v.shape}\\n{v.numpy()}\\n')\n",
    "print(f'w shape: {w.shape}\\n{w.numpy()}\\n')"
   ]
  },
  {
   "cell_type": "markdown",
   "id": "a40a0862-46ac-4652-a8e6-43bcec531c70",
   "metadata": {},
   "source": [
    "## Basic Operations of Matrices III\n",
    "### Multiplication of two matrices\n",
    "\n",
    "\n",
    "* $\\boldsymbol{A} \\in \\mathbb{R}^{m \\times n}$, $\\boldsymbol{B} \\in \\mathbb{R}^{n \\times p}$\n",
    "\n",
    "$$\n",
    "\\boldsymbol{A} \\boldsymbol{B} := \n",
    "\\left[ \\begin{array}{cccc}\n",
    "a_{11} & a_{12} & \\cdots & a_{1n} \\\\\n",
    "\\vdots & \\vdots & \\cdots & \\vdots \\\\\n",
    "a_{i1} & a_{i2} & \\cdots & a_{in} \\\\\n",
    "\\vdots & \\vdots & \\cdots & \\vdots \\\\\n",
    "a_{m1} & a_{m2} & \\cdots & a_{mn} \\\\\n",
    "\\end{array} \\right]\n",
    "\\left[ \\begin{array}{ccccc}\n",
    "b_{11} &\\cdots & b_{1j} & \\cdots & b_{1p} \\\\\n",
    "b_{21} &\\cdots & b_{2j} & \\cdots & b_{2p} \\\\\n",
    "\\vdots & & \\vdots & & \\vdots \\\\\n",
    "b_{n1} & \\cdots & b_{nj} & \\cdots & b_{np} \\\\\n",
    "\\end{array} \\right]\n",
    "=\n",
    "\\left[ \\begin{array}{cccc}\n",
    "c_{11} & c_{12} & \\cdots & c_{1p} \\\\\n",
    "\\vdots & \\vdots & c_{ij} & \\vdots \\\\\n",
    "c_{m1} & c_{m2} & \\cdots & c_{mp} \\\\\n",
    "\\end{array} \\right]\n",
    "\\in \\mathbb{R}^{m \\times p}\n",
    "$$\n",
    "\n",
    "$$\\boldsymbol{C} = \\boldsymbol{A} \\boldsymbol{B}$$\n",
    "$$c_{ij} = \\sum_{k=1}^{n} a_{ik}b_{kj}$$"
   ]
  },
  {
   "cell_type": "code",
   "execution_count": null,
   "id": "988bcb82-84db-45b3-bf9d-7edb091d23ac",
   "metadata": {},
   "outputs": [],
   "source": [
    "# Multiplication of two matrices\n",
    "m, n, p = 3, 2, 4\n",
    "A = torch.arange(m * n).reshape(m, n)  # shape of A: (3, 2)\n",
    "B = (torch.arange(n * p) + m * n).reshape(n, p)  # shape of B: (2, 4)\n",
    "C = torch.matmul(A, B)  # shape of C: (3, 4)\n",
    "D = A @ B\n",
    "# C = A.matmul(B)  # shape of C: (3, 4)\n",
    "print(f'A shape: {A.size()}\\n{A.numpy()}\\n')\n",
    "print(f'B shape: {B.shape}\\n{B.numpy()}\\n')\n",
    "print(f'C shape: {C.shape}\\n{C.numpy()}\\n')\n",
    "print(f'D shape: {D.shape}\\n{D.numpy()}\\n')"
   ]
  },
  {
   "cell_type": "markdown",
   "id": "eee14fb3-0c6b-4b00-975b-319cbfdb1b71",
   "metadata": {},
   "source": [
    "### Properties of matrix multiplication\n",
    "\n",
    "* Distributivity: $\\boldsymbol{A} (\\boldsymbol{B} + \\boldsymbol{C}) = \\boldsymbol{A} \\boldsymbol{B} + \\boldsymbol{A} \\boldsymbol{C}$\n",
    "* Associativity: $\\boldsymbol{A} (\\boldsymbol{B} \\boldsymbol{C}) = ( \\boldsymbol{A} \\boldsymbol{B} ) \\boldsymbol{C}$\n",
    "* Non-commutativity: $\\boldsymbol{A} \\boldsymbol{B} \\neq \\boldsymbol{B} \\boldsymbol{A}$"
   ]
  },
  {
   "cell_type": "code",
   "execution_count": null,
   "id": "22744dca-7b07-435c-bb99-e897e231ad7a",
   "metadata": {},
   "outputs": [],
   "source": [
    "# Distributivity\n",
    "m, n, p = 3, 2, 4\n",
    "A = torch.arange(m * n).reshape(m, n)  # shape of A: (3, 2)\n",
    "B = (torch.arange(n * p) + m * n).reshape(n, p)  # shape of B: (2, 4)\n",
    "C = (torch.arange(n * p) + m * n + n * p).reshape(n, p)  # shape of C: (2, 4)\n",
    "\n",
    "D1 = A @ (B + C)  # shape of D1: (3, 4)\n",
    "D2 = A @ B + A @ C  # shape of D2: (3, 4)\n",
    "print(D1)\n",
    "print(D2)"
   ]
  },
  {
   "cell_type": "code",
   "execution_count": null,
   "id": "c095f015-3820-459f-acd0-2f14e0156d3d",
   "metadata": {},
   "outputs": [],
   "source": [
    "# Associativity\n",
    "m, n, p = 3, 2, 4\n",
    "A = torch.arange(m * n).reshape(m, n)  # shape of A: (3, 2)\n",
    "B = (torch.arange(n * n) + m * n).reshape(n, n)  # shape of B: (2, 2)\n",
    "C = (torch.arange(n * p) + m * n + n * n).reshape(n, p)  # shape of C: (2, 4)\n",
    "\n",
    "D1 = A @ (B @ C)  # shape of D1: (3, 4)\n",
    "D2 = (A @ B) @ C  # shape of D2: (3, 4)\n",
    "print(D1)\n",
    "print(D2)"
   ]
  },
  {
   "cell_type": "code",
   "execution_count": null,
   "id": "0a3a813f-73c7-40cb-9a0f-833a40784411",
   "metadata": {},
   "outputs": [],
   "source": [
    "# Non-commutativity\n",
    "# Error!!\n",
    "m, n, p = 3, 2, 4\n",
    "A = torch.arange(m * n).reshape(m, n)  # shape of A: (3, 2)\n",
    "B = (torch.arange(n * p) + m * n).reshape(n, p)  # shape of B: (2, 4)\n",
    "D1 = torch.matmul(A, B)\n",
    "D2 = torch.matmul(B, A)"
   ]
  },
  {
   "cell_type": "markdown",
   "id": "79868d25-edc2-4d12-a800-700e86c32bd2",
   "metadata": {},
   "source": [
    "### Inner product between two vectors\n",
    "\n",
    "$$\n",
    "\\begin{array}{rl}\n",
    "\\boldsymbol{x}^{\\top} \\boldsymbol{y}\n",
    "= \\boldsymbol{y}^{\\top} \\boldsymbol{x} \n",
    "&= \\sum_{k=1}^{d} x_{k} y_{k}\\\\\n",
    "&= x_{1} y_{1} + x_{2} y_{2} + \\cdots + x_{d} y_{d} \\in \\mathbb{R}\n",
    "\\end{array}\n",
    "$$"
   ]
  },
  {
   "cell_type": "code",
   "execution_count": null,
   "id": "4877afa9-0a71-49fc-920b-585d2d229ec8",
   "metadata": {},
   "outputs": [],
   "source": [
    "d = 3\n",
    "x = torch.arange(d)  # shape of x: (3,)\n",
    "y = torch.arange(d) + d  # shape of y: (3,)\n",
    "z1 = torch.dot(x, y)\n",
    "z2 = (x * y).sum()\n",
    "print(f'x: {x.numpy()}')\n",
    "print(f'y: {y.numpy()}')\n",
    "print(f'z1: {z1.numpy()} / z2: {z2.numpy()}')"
   ]
  },
  {
   "cell_type": "markdown",
   "id": "6af12004-18de-4185-9e9e-1159d1811142",
   "metadata": {},
   "source": [
    "### Outer product between two vectors\n",
    "\n",
    "* $\\boldsymbol{x} \\in \\mathbb{R}^{m}$, $\\boldsymbol{y} \\in \\mathbb{R}^{n}$\n",
    "\n",
    "$$\n",
    "\\begin{array}{rl}\n",
    "\\boldsymbol{x} \\boldsymbol{y}^{\\top} \\in \\mathbb{R}^{m \\times n}\n",
    "= \\left[ \\begin{array}{c}\n",
    "x_{1} \\\\\n",
    "x_{2} \\\\\n",
    "\\vdots \\\\\n",
    "x_{m} \\\\\n",
    "\\end{array} \\right]\n",
    "\\left[ \\begin{array}{cccc}\n",
    "y_{1} & y_{2} & \\cdots & y_{n} \\\\\n",
    "\\end{array} \\right]\n",
    "= \\left[ \\begin{array}{cccc}\n",
    "x_{1} y_{1} & x_{1} y_{2} & \\cdots & x_{1} y_{n} \\\\\n",
    "x_{2} y_{1} & x_{2} y_{2} & \\cdots & x_{2} y_{n} \\\\\n",
    "\\vdots & \\vdots & \\ddots & \\vdots \\\\\n",
    "x_{m} y_{1} & x_{m} y_{2} & \\cdots & x_{m} y_{n} \\\\\n",
    "\\end{array} \\right]\n",
    "\\end{array}\n",
    "$$"
   ]
  },
  {
   "cell_type": "code",
   "execution_count": null,
   "id": "a1465af7-0503-4850-b434-2371c2976dc2",
   "metadata": {},
   "outputs": [],
   "source": [
    "m = 3\n",
    "n = 2\n",
    "x = torch.arange(m)  # shape of x: (3,)\n",
    "y = torch.arange(n) + n  # shape of y: (2,)\n",
    "z = torch.outer(x, y)  # shape of z: (3, 2)\n",
    "print(f'x: {x.numpy()}')\n",
    "print(f'y: {y.numpy()}')\n",
    "print(f'z shape: {z.shape}\\n{z.numpy()}')"
   ]
  },
  {
   "cell_type": "code",
   "execution_count": null,
   "id": "10c6c5c2-6e11-4519-9c41-7e758639b47d",
   "metadata": {},
   "outputs": [],
   "source": [
    "# `torch.squeeze()` and `torch.unsqueeze()`\n",
    "X = x.unsqueeze(dim=1)  # shpae of X: (3, 1)\n",
    "Y = y.unsqueeze(dim=0)  # shpae of Y: (1, 2)\n",
    "Z = torch.matmul(X, Y)  # shpae of Z: (3, 2)\n",
    "print(f'X shape: {X.shape}\\n{X.numpy()}')\n",
    "print(f'Y shape: {Y.shape}\\n{Y.numpy()}')\n",
    "print(f'Z shape: {Z.shape}\\n{Z.numpy()}')"
   ]
  },
  {
   "cell_type": "code",
   "execution_count": null,
   "id": "5ebd3723-e3c6-49b8-b20f-351d61434c24",
   "metadata": {},
   "outputs": [],
   "source": [
    "# `numpy.expand_dims`\n",
    "x = np.random.normal(size=(3,))\n",
    "y = np.random.normal(size=(2,))\n",
    "z = np.outer(x, y)\n",
    "X = np.expand_dims(x, axis=1)\n",
    "Y = np.expand_dims(y, axis=0)\n",
    "Z = X @ Y\n",
    "print(f'{z}\\n\\n{Z}')"
   ]
  },
  {
   "cell_type": "markdown",
   "id": "0abb6d6f-3bee-4205-a201-51f1c521bd4b",
   "metadata": {},
   "source": [
    "### Matrix-Vector product\n",
    "\n",
    "* Given a matrix $\\boldsymbol{A} \\in \\mathbb{R}^{m \\times n}$ and a vectors $\\boldsymbol{x} \\in \\mathbb{R}^{n}$\n",
    "* Matrix-vector product: $\\boldsymbol{y} = \\boldsymbol{A} \\boldsymbol{x} \\in \\mathbb{R}^{m}$"
   ]
  },
  {
   "cell_type": "code",
   "execution_count": null,
   "id": "5ca625e4-3563-4fe2-b075-543b96ed1a99",
   "metadata": {},
   "outputs": [],
   "source": [
    "m = 3\n",
    "n = 2\n",
    "A = torch.arange(m * n).reshape(m, n)  # shape of A: (3, 2)\n",
    "x = torch.arange(n) + m * n  # shape of x: (2,)\n",
    "#y = torch.matmul(A, x)\n",
    "y = A @ x\n",
    "print(f'A shape: {A.shape}\\n{A.numpy()}')\n",
    "print(f'x shape: {x.shape}\\n{x.numpy()}')\n",
    "print(f'y shape: {y.shape}\\n{y.numpy()}')"
   ]
  },
  {
   "cell_type": "markdown",
   "id": "c5b23ea7-0b57-435c-924c-fab0c415ebc9",
   "metadata": {},
   "source": [
    "### `torch.matmul()`\n",
    "\n",
    "$$c_{ij} = \\sum_{k=1}^{n} a_{ik}b_{kj}$$"
   ]
  },
  {
   "cell_type": "code",
   "execution_count": null,
   "id": "623d78bd-7cc2-43fa-84a7-422d0219d203",
   "metadata": {},
   "outputs": [],
   "source": [
    "# `torch.matmul()` of two 3-rank tensors\n",
    "torch.manual_seed(219)\n",
    "m, n, p, q = 2, 3, 4, 5\n",
    "x = torch.randn(m, n, p)\n",
    "y = torch.randn(m, p, q)\n",
    "z = torch.matmul(x, y)\n",
    "print(f'{z.shape}')"
   ]
  },
  {
   "cell_type": "code",
   "execution_count": null,
   "id": "9eb1fea7-cfba-40af-870c-136bbba83f49",
   "metadata": {},
   "outputs": [],
   "source": [
    "d = 1\n",
    "i, j = 0, 3\n",
    "c = 0  # for summation\n",
    "for k in range(p):\n",
    "  c += x[d, i, k] * y[d, k, j]\n",
    "  \n",
    "print(f'({i}, {j}) element of {d}th data: {c.numpy():.4f}')\n",
    "print(f'z[{d}, {i}, {j}]: {z[d, i, j]:.4f}')"
   ]
  },
  {
   "cell_type": "code",
   "execution_count": null,
   "id": "3bd166b3-4097-4aae-bf36-1d5336d90de0",
   "metadata": {},
   "outputs": [],
   "source": [
    "# `torch.matmul()` of two 4-rank tensors\n",
    "torch.manual_seed(219)\n",
    "m, n, p, q, r = 3, 2, 4, 5, 6\n",
    "x = torch.randn(m, n, p, q)\n",
    "y = torch.randn(m, n, q, r)\n",
    "z = torch.matmul(x, y)\n",
    "print(f'{z.shape}')"
   ]
  },
  {
   "cell_type": "markdown",
   "id": "244dcc61-37bf-4a5c-b35b-8065f06b5a10",
   "metadata": {},
   "source": [
    "## Linear Combination and Linear Transformation\n",
    "\n",
    "### Linear Combination\n",
    "\n",
    "* Consider a vector space $V$ and a finite number of vectors $\\boldsymbol{x}_{1}, \\cdots, \\boldsymbol{x}_{k} \\in V$\n",
    "* Every $\\boldsymbol{x} \\in V$ is a linear combination of the vectors $\\boldsymbol{x}_{1}, \\cdots, \\boldsymbol{x}_{k}$\n",
    "$$\\boldsymbol{x} = c_{1} \\boldsymbol{x}_{1}\n",
    "+ \\cdots +\n",
    "c_{k} \\boldsymbol{x}_{k}\n",
    "= \\sum_{i=1}^{k} c_{i} \\boldsymbol{x}_{i} \\in V$$\n",
    "with $c_{1}, \\cdots, c_{k} \\in \\mathbb{R}$"
   ]
  },
  {
   "cell_type": "code",
   "execution_count": null,
   "id": "956cf30b-b24b-4a7b-844e-b3de4c2cfc1d",
   "metadata": {},
   "outputs": [],
   "source": [
    "def draw_linear_combination(a=np.array([1, 3]), b=np.array([3, 1]), w1=1, w2=1):\n",
    "  a = np.array(a)\n",
    "  b = np.array(b)\n",
    "  c = w1 * a + w2 * b\n",
    "  # draw figure code ref.:http://datascienceschool.net/02%20mathematics/03.01%20선형대수와%20해석기하의%20기초.html\n",
    "  # modified by Il Gu Yi\n",
    "  fig = plt.figure()\n",
    "  gray = {'facecolor': 'gray'}\n",
    "  black = {'facecolor': 'black'}\n",
    "  ax = fig.add_subplot(111)\n",
    "  ax.set_aspect('equal', adjustable='box')\n",
    "  plt.annotate('', xy=a, xytext=(0, 0), arrowprops=gray)\n",
    "  plt.annotate('', xy=b, xytext=(0, 0), arrowprops=gray)\n",
    "  plt.annotate('', xy=c, xytext=(0, 0), arrowprops=black)\n",
    "  plt.plot(0, 0, 'kP', ms=10)\n",
    "  plt.plot(a[0], a[1], 'ro', ms=10)\n",
    "  plt.plot(b[0], b[1], 'ro', ms=10)\n",
    "  plt.plot(c[0], c[1], 'ro', ms=10)\n",
    "  plt.plot([a[0], c[0]], [a[1], c[1]], 'k--')\n",
    "  plt.plot([b[0], c[0]], [b[1], c[1]], 'k--')\n",
    "\n",
    "  right = np.max([a[0], b[0], c[0], 0])\n",
    "  left = np.min([a[0], b[0], c[0], 0])\n",
    "  up = np.max([a[1], b[1], c[1], 0])\n",
    "  down = np.min([a[1], b[1], c[1], 0])\n",
    "  x_scale = (right - left) / 5.\n",
    "  y_scale = (up - down) / 5.\n",
    "  plt.xticks(np.arange(left, right + x_scale, x_scale * 2))\n",
    "  plt.yticks(np.arange(down, up + y_scale, y_scale * 2))\n",
    "  plt.xlim(left - x_scale, right + x_scale)\n",
    "  plt.ylim(down - y_scale, up + y_scale)\n",
    "  plt.show()"
   ]
  },
  {
   "cell_type": "code",
   "execution_count": null,
   "id": "f41e4bf6-f969-4d60-b622-599bd2e95f66",
   "metadata": {},
   "outputs": [],
   "source": [
    "draw_linear_combination(w1=1, w2=1)"
   ]
  },
  {
   "cell_type": "markdown",
   "id": "9909b374-c076-4c51-8d2f-346023abcc68",
   "metadata": {},
   "source": [
    "### Linear Transformation in Machine Learning\n",
    "\n",
    "<img width=\"200\" alt=\"Colored_neural_network\" src=\"https://user-images.githubusercontent.com/11681225/183967601-ab747c72-8710-4ad5-977e-4fd1ba2f95c8.png\">\n",
    "\n",
    "* input vector: $\\boldsymbol{x} \\in \\mathbb{R}^{3}$\n",
    "* hidden vector: $\\boldsymbol{h} \\in \\mathbb{R}^{4}$\n",
    "* output vector: $\\boldsymbol{y} \\in \\mathbb{R}^{3}$\n",
    "* input-hidden weight: $\\boldsymbol{w}_{1} \\in \\mathbb{R}^{4 \\times 3}$\n",
    "* hidden-output weight: $\\boldsymbol{w}_{2} \\in \\mathbb{R}^{2 \\times 4}$\n",
    "* neural net: $\\boldsymbol{y} = \\boldsymbol{w}_{2} (\\boldsymbol{w}_{1} \\boldsymbol{x}) = (\\boldsymbol{w}_{2} \\boldsymbol{w}_{1}) \\boldsymbol{x} = \\boldsymbol{w}' \\boldsymbol{x}$"
   ]
  },
  {
   "cell_type": "code",
   "execution_count": null,
   "id": "208c7ed0-a200-490d-be77-4b68e264df14",
   "metadata": {},
   "outputs": [],
   "source": [
    "torch.manual_seed(219)\n",
    "x = torch.randn(3)\n",
    "w1 = torch.randn(4, 3)\n",
    "w2 = torch.randn(2, 4)\n",
    "\n",
    "h = torch.matmul(w1, x)\n",
    "y = torch.matmul(w2, h)\n",
    "print(f'h shape: {h.shape}')\n",
    "print(f'h: {h}')\n",
    "print(f'y shape: {y.shape}')\n",
    "print(f'y: {y}')"
   ]
  },
  {
   "cell_type": "code",
   "execution_count": null,
   "id": "62cb26e1-91fa-4db6-813b-154c2ebde7cd",
   "metadata": {},
   "outputs": [],
   "source": [
    "w3 = torch.matmul(w2, w1)\n",
    "y = torch.matmul(w3, x)\n",
    "print(f'y shape: {y.shape}')\n",
    "print(f'y: {y}')"
   ]
  },
  {
   "cell_type": "markdown",
   "id": "8470f458-45bd-41fc-b785-fe3b1c54b30a",
   "metadata": {},
   "source": [
    "* neural net added non-linearity: $\\boldsymbol{y} = \\sigma (\\boldsymbol{w}_{2} \\, \\text{ReLU} (\\boldsymbol{w}_{1} \\boldsymbol{x}) )$"
   ]
  },
  {
   "cell_type": "code",
   "execution_count": null,
   "id": "11c6e318-b7a1-4227-ac04-7da441269f2d",
   "metadata": {},
   "outputs": [],
   "source": [
    "h = torch.relu(torch.matmul(w1, x))\n",
    "y = torch.sigmoid(torch.matmul(w2, h))\n",
    "print(f'h: {h}')\n",
    "print(f'y: {y}')"
   ]
  },
  {
   "cell_type": "markdown",
   "id": "1c435237-71ea-430a-afa2-adbaa9ece01d",
   "metadata": {},
   "source": [
    "### feed-forward neural net in practice"
   ]
  },
  {
   "cell_type": "code",
   "execution_count": null,
   "id": "83c93053-91f9-4b26-8b46-c1bf7d90378a",
   "metadata": {},
   "outputs": [],
   "source": [
    "torch.manual_seed(219)\n",
    "x_ = torch.randn(1, 3)\n",
    "fc1 = nn.Linear(3, 4)\n",
    "fc2 = nn.Linear(4, 2)\n",
    "\n",
    "h = torch.relu(fc1(x_))\n",
    "y = torch.sigmoid(fc2(h))\n",
    "print(f'h: {h}')\n",
    "print(f'y: {y}')"
   ]
  },
  {
   "cell_type": "code",
   "execution_count": null,
   "id": "2cfd1054-830f-42a5-b4bd-ca524dceb4d4",
   "metadata": {},
   "outputs": [],
   "source": [
    "torch.manual_seed(219)\n",
    "x_ = torch.randn(1, 3)\n",
    "fc1 = nn.Linear(3, 4, bias=False)\n",
    "fc2 = nn.Linear(4, 2, bias=False)\n",
    "fc1.weight.data = w1\n",
    "fc2.weight.data = w2\n",
    "\n",
    "h = torch.relu(fc1(x_))\n",
    "y = torch.sigmoid(fc2(h))\n",
    "print(f'h: {h}')\n",
    "print(f'y: {y}')"
   ]
  },
  {
   "cell_type": "code",
   "execution_count": null,
   "id": "4e569ca1-a30b-4a52-8713-2ce399bfa1b2",
   "metadata": {},
   "outputs": [],
   "source": [
    "h = torch.relu(torch.matmul(w1, x))\n",
    "y = torch.sigmoid(torch.matmul(w2, h))\n",
    "print(f'h: {h}')\n",
    "print(f'y: {y}')"
   ]
  },
  {
   "cell_type": "markdown",
   "id": "da4600bf-ddb4-43fe-b7e4-2a12d9e1777f",
   "metadata": {},
   "source": [
    "### When batch size is more than 1"
   ]
  },
  {
   "cell_type": "markdown",
   "id": "41f9e3b2-5742-4281-b731-cff8281fa6c3",
   "metadata": {},
   "source": [
    "$\\boldsymbol{y} = \\boldsymbol{w}_{2} (\\boldsymbol{w}_{1} \\boldsymbol{x}) = (\\boldsymbol{w}_{2} \\boldsymbol{w}_{1}) \\boldsymbol{x} = \\boldsymbol{w}' \\boldsymbol{x}$\n",
    "\n",
    "* batch size 1, shape: $(2) = (2 \\times 4) \\times ( 4 \\times 3 ) \\times (3)$\n",
    "* batch size 5, shape: $ (5, 2) \\neq (2 \\times 4) \\times ( 4 \\times 3 ) \\times (5 \\times 3)$"
   ]
  },
  {
   "cell_type": "code",
   "execution_count": null,
   "id": "cf2360cf-dcf1-47ed-8448-321137d8fba7",
   "metadata": {},
   "outputs": [],
   "source": [
    "# Error\n",
    "torch.manual_seed(219)\n",
    "x = torch.randn(5, 3)\n",
    "w1 = torch.randn(4, 3)\n",
    "w2 = torch.randn(2, 4)\n",
    "\n",
    "h = torch.matmul(w1, x)\n",
    "y = torch.matmul(w2, h)\n",
    "print(f'h shape: {h.shape}')\n",
    "print(f'h: {h}')\n",
    "print(f'y shape: {y.shape}')\n",
    "print(f'y: {y}')"
   ]
  },
  {
   "cell_type": "markdown",
   "id": "d294662f-39dd-4414-ac73-4e6dc288d860",
   "metadata": {},
   "source": [
    "$\\boldsymbol{y} = (\\boldsymbol{x} \\boldsymbol{w}_{1}) \\boldsymbol{w}_{2}$\n",
    "\n",
    "* batch size 1, shape: $(2) = (3) \\times (3 \\times 4) \\times ( 4 \\times 2 )$\n",
    "* batch size 5, shape: $(5, 2) = (5 \\times 3) \\times ( 3 \\times 4 ) \\times (4 \\times 2)$"
   ]
  },
  {
   "cell_type": "code",
   "execution_count": null,
   "id": "38a1a08f-7eae-4eab-9084-1104f1a844fc",
   "metadata": {},
   "outputs": [],
   "source": [
    "torch.manual_seed(219)\n",
    "x = torch.randn(5, 3)\n",
    "w1 = torch.randn(3, 4)\n",
    "w2 = torch.randn(4, 2)\n",
    "\n",
    "h = torch.relu(torch.matmul(x, w1))\n",
    "y = torch.matmul(h, w2)\n",
    "print(f'h shape: {h.shape}')\n",
    "print(f'h: {h}')\n",
    "print(f'y shape: {y.shape}')\n",
    "print(f'y: {y}')"
   ]
  },
  {
   "cell_type": "code",
   "execution_count": null,
   "id": "bbed8839-b57d-4411-ac1c-ed6fe82e9f29",
   "metadata": {},
   "outputs": [],
   "source": [
    "torch.manual_seed(219)\n",
    "x = torch.randn(5, 3)\n",
    "fc1 = nn.Linear(3, 4, bias=False)\n",
    "fc2 = nn.Linear(4, 2, bias=False)\n",
    "fc1.weight.data = w1.T\n",
    "fc2.weight.data = w2.T\n",
    "\n",
    "h = torch.relu(fc1(x))\n",
    "y = fc2(h)\n",
    "print(f'h: {h}')\n",
    "print(f'y: {y}')"
   ]
  },
  {
   "cell_type": "markdown",
   "id": "bc024663-7281-4adf-85e0-25cc6e2de11e",
   "metadata": {},
   "source": [
    "### Rank and nullity\n",
    "\n",
    "* Dimension ( $\\dim V$ ): the number of vectors of basis for vector space $V$\n",
    "* Rank ( $\\mathrm{rank} \\, \\boldsymbol{A}$ ): dimension of the column space of $\\boldsymbol{A}$\n",
    "* Nullity ( $\\mathrm{nullity} \\, \\boldsymbol{A}$ ): dimension of the null space of $\\boldsymbol{A}$\n",
    "* Rank-nullity theorem: $\\boldsymbol{A} \\in \\mathbb{R}^{m \\times n}$\n",
    "  * $\\mathrm{rank} \\, \\boldsymbol{A} + \\mathrm{nullity} \\, \\boldsymbol{A} = n$"
   ]
  },
  {
   "cell_type": "code",
   "execution_count": null,
   "id": "1eae29c8-6379-4f0e-9c77-accde299a669",
   "metadata": {},
   "outputs": [],
   "source": [
    "A = np.array([ [1, 1, 0, 2],\n",
    "               [-2, -2, 1, -5],\n",
    "               [1, 1, -1, 3],\n",
    "               [4, 4, -1, 9] ], dtype=np.float32)"
   ]
  },
  {
   "cell_type": "code",
   "execution_count": null,
   "id": "288672e3-a271-487e-9498-41d707ea0401",
   "metadata": {},
   "outputs": [],
   "source": [
    "A = np.random.normal(size=(15, 15))"
   ]
  },
  {
   "cell_type": "code",
   "execution_count": null,
   "id": "3cf0b3d1-7b46-4a30-83de-d104f0a826a6",
   "metadata": {},
   "outputs": [],
   "source": [
    "rank = np.linalg.matrix_rank(A)\n",
    "print(f'the rank of a matrix A: {rank}')"
   ]
  },
  {
   "cell_type": "markdown",
   "id": "d3d1a25a-d39a-47e7-97ed-35a6c1eb5ba3",
   "metadata": {},
   "source": [
    "## Basic Operations of Matrices IV\n",
    "### Transpose\n",
    "\n",
    "properties of matrix transpose\n",
    "* $(\\boldsymbol{A}^{\\top})^{\\top} = \\boldsymbol{A}$\n",
    "* $(\\boldsymbol{A} \\boldsymbol{B})^{\\top} = \\boldsymbol{B}^{\\top} \\boldsymbol{A}^{\\top}$\n",
    "* For any scalar $c$, $(c \\boldsymbol{A})^{\\top} = c \\boldsymbol{A}^{\\top}$\n",
    "* $(\\boldsymbol{A} + \\boldsymbol{B})^{\\top} = \\boldsymbol{A}^{\\top} + \\boldsymbol{B}^{\\top}$"
   ]
  },
  {
   "cell_type": "code",
   "execution_count": null,
   "id": "c4f7bc1a-46a5-41a7-a03d-e4d9d8d54437",
   "metadata": {},
   "outputs": [],
   "source": [
    "A = torch.randn(3, 2)\n",
    "B = torch.randn(2, 4)\n",
    "A_t = A.T\n",
    "print(f'shape of transpose of A: {A_t.shape}')"
   ]
  },
  {
   "cell_type": "code",
   "execution_count": null,
   "id": "5dd6465f-7421-4100-a0fb-97cdd9670c21",
   "metadata": {},
   "outputs": [],
   "source": [
    "# property 1\n",
    "torch.allclose(A, A.T.T)"
   ]
  },
  {
   "cell_type": "code",
   "execution_count": null,
   "id": "2ee01618-8a0d-4ec7-b2a1-e4a950d3cede",
   "metadata": {},
   "outputs": [],
   "source": [
    "# property 2\n",
    "torch.allclose(torch.matmul(A, B).T, torch.matmul(B.T, A.T))"
   ]
  },
  {
   "cell_type": "code",
   "execution_count": null,
   "id": "30399949-6934-4263-b61b-f7e31d8065e0",
   "metadata": {},
   "outputs": [],
   "source": [
    "# property 3\n",
    "c = 2.1\n",
    "torch.allclose((c * A).T, c * A.T)"
   ]
  },
  {
   "cell_type": "code",
   "execution_count": null,
   "id": "09eb1ac7-4c05-4899-ab9d-8ef9a0252c71",
   "metadata": {},
   "outputs": [],
   "source": [
    "# property 4\n",
    "A = torch.randn(3, 2)\n",
    "B = torch.randn(3, 2)\n",
    "torch.allclose((A + B).T, A.T + B.T)"
   ]
  },
  {
   "cell_type": "markdown",
   "id": "a08fbad5-052d-47aa-afab-b7b25cbdde27",
   "metadata": {},
   "source": [
    "## Basic Operations of Matrices IV\n",
    "### Identity matrix\n",
    "\n",
    "* Notation: $\\boldsymbol{I}_{n} \\in \\mathbb{R}^{n \\times n}$\n",
    "$$I_{ij} = \\left\\{ \\begin{array}{cl}\n",
    "1 & i = j \\\\\n",
    "0 & 1 \\neq j\n",
    "\\end{array} \\right.$$\n",
    "* Property: $\\forall \\boldsymbol{A} \\in \\mathbb{R}^{m \\times n}$,\n",
    "$$\\boldsymbol{A} \\boldsymbol{I}_{n} = \\boldsymbol{A} = \\boldsymbol{I}_{m} \\boldsymbol{A}$$\n",
    "* Element notation\n",
    "$$(\\boldsymbol{I}_{n})_{ij} = \\delta_{ij}$$"
   ]
  },
  {
   "cell_type": "code",
   "execution_count": null,
   "id": "c61b5b69-df95-4e32-9f68-9ad9e8850411",
   "metadata": {},
   "outputs": [],
   "source": [
    "I = torch.eye(3)\n",
    "print(I)"
   ]
  },
  {
   "cell_type": "markdown",
   "id": "2078b95c-05db-4e9d-8a3c-f73635f0d324",
   "metadata": {},
   "source": [
    "### Diagonal matrix\n",
    "\n",
    "* Notation: $\\boldsymbol{D} = \\mathrm{diag}(d_{1}, d_{2}, \\ldots, d_{n})$\n",
    "$$D_{ij} = \\left\\{ \\begin{array}{cl}\n",
    "d_{i} & i = j \\\\\n",
    "0 & 1 \\neq j\n",
    "\\end{array} \\right.$$\n",
    "* Identity matrix: $\\boldsymbol{I}_{n} = \\mathrm{diag}(1, 1, \\ldots, 1)$"
   ]
  },
  {
   "cell_type": "code",
   "execution_count": null,
   "id": "c0af4982-3cac-4a86-b1c8-a00dc7de157c",
   "metadata": {},
   "outputs": [],
   "source": [
    "d = torch.tensor([2, 4, 5])\n",
    "D = torch.diag(d)\n",
    "print(D)"
   ]
  },
  {
   "cell_type": "markdown",
   "id": "b197fa4b-1ee8-470c-b5ce-de1c07b74eba",
   "metadata": {},
   "source": [
    "## Basic Operations of Matrices V\n",
    "### Inverse matrix\n",
    "\n",
    "* Inverse of $2 \\times 2$ matrix, if $ad - bc \\neq 0$\n",
    "$$\n",
    "\\boldsymbol{A} =\n",
    "\\left[ \\begin{array}{cc}\n",
    "a & b \\\\\n",
    "c & d\n",
    "\\end{array} \\right]\n",
    "\\quad \\quad\n",
    "\\boldsymbol{A}^{-1} =\n",
    "\\frac{1}{ad - bc}\n",
    "\\left[ \\begin{array}{cc}\n",
    "d & -b \\\\\n",
    "-c & a\n",
    "\\end{array} \\right]\n",
    "$$"
   ]
  },
  {
   "cell_type": "code",
   "execution_count": null,
   "id": "bd677707-2b4b-4c39-b9e7-55114fb82b0f",
   "metadata": {},
   "outputs": [],
   "source": [
    "A = torch.randn(2, 2)\n",
    "print(A)"
   ]
  },
  {
   "cell_type": "code",
   "execution_count": null,
   "id": "1a32247a-4f38-42b5-bd47-e162f7c0e2b8",
   "metadata": {},
   "outputs": [],
   "source": [
    "# inverse matrix from formula\n",
    "ad_bc = A[0, 0] * A[1, 1] - A[0, 1] * A[1, 0]\n",
    "A_inv = torch.empty(2, 2)\n",
    "A_inv[0, 0] = A[1, 1]\n",
    "A_inv[0, 1] = -A[0, 1]\n",
    "A_inv[1, 0] = -A[1, 0]\n",
    "A_inv[1, 1] = A[0, 0]\n",
    "A_inv = A_inv / ad_bc\n",
    "print(A_inv)"
   ]
  },
  {
   "cell_type": "code",
   "execution_count": null,
   "id": "d532e1d3-1a4d-4a13-87c4-7188bde13a07",
   "metadata": {},
   "outputs": [],
   "source": [
    "A_inv2 = torch.inverse(A)\n",
    "print(A_inv2)"
   ]
  },
  {
   "cell_type": "code",
   "execution_count": null,
   "id": "714ac979-c844-48cd-87ea-02ad97ee99e2",
   "metadata": {},
   "outputs": [],
   "source": [
    "torch.matmul(A, A_inv)"
   ]
  },
  {
   "cell_type": "code",
   "execution_count": null,
   "id": "cc4e77d1-7a87-425b-affe-42eb631846f6",
   "metadata": {},
   "outputs": [],
   "source": [
    "torch.matmul(A_inv, A)"
   ]
  },
  {
   "cell_type": "markdown",
   "id": "6b149b73-f57b-4a1f-afc8-149270a7c2c7",
   "metadata": {},
   "source": [
    "### Properties of inverse matrix\n",
    "\n",
    "* $(\\boldsymbol{A}^{-1})^{-1} = \\boldsymbol{A}$\n",
    "* $(\\boldsymbol{A} \\boldsymbol{B})^{-1} = \\boldsymbol{B}^{-1} \\boldsymbol{A}^{-1}$\n",
    "* $(\\boldsymbol{A}^{-1})^{\\top} = (\\boldsymbol{A}^{\\top})^{-1}$\n",
    "* $\\det \\boldsymbol{A}^{-1} = (\\det \\boldsymbol{A})^{-1}$"
   ]
  },
  {
   "cell_type": "code",
   "execution_count": null,
   "id": "ed2cb039-c816-4bb6-9432-51bc7c5f6e16",
   "metadata": {},
   "outputs": [],
   "source": [
    "# property 1\n",
    "A = torch.randn(3, 3)\n",
    "A_inv_inv = A.inverse().inverse()\n",
    "print(A_inv_inv == A)\n",
    "print(A_inv_inv)\n",
    "print(A)"
   ]
  },
  {
   "cell_type": "code",
   "execution_count": null,
   "id": "4635c12a-0ab4-4903-881d-8d3debc40650",
   "metadata": {},
   "outputs": [],
   "source": [
    "torch.allclose(A_inv_inv, A)"
   ]
  },
  {
   "cell_type": "code",
   "execution_count": null,
   "id": "0f65359f-5a58-4644-95f9-bcd79b28007e",
   "metadata": {},
   "outputs": [],
   "source": [
    "# property 2\n",
    "A = torch.randn(3, 3)\n",
    "B = torch.randn(3, 3)\n",
    "C = torch.inverse(torch.matmul(A, B))\n",
    "D = torch.matmul(B.inverse(), A.inverse())\n",
    "print(torch.allclose(C, D))"
   ]
  },
  {
   "cell_type": "code",
   "execution_count": null,
   "id": "6b3be194-998c-43f5-8254-ed35ef7f2f11",
   "metadata": {},
   "outputs": [],
   "source": [
    "# property 3\n",
    "A = torch.randn(3, 3)\n",
    "C = torch.inverse(A).T\n",
    "D = torch.inverse(A.T)\n",
    "print(torch.allclose(C, D))"
   ]
  },
  {
   "cell_type": "code",
   "execution_count": null,
   "id": "e6ce472c-8d2b-425b-af6b-e7576fd2ba87",
   "metadata": {},
   "outputs": [],
   "source": [
    "# property 4\n",
    "a = torch.det(A.inverse())\n",
    "b = 1 / torch.det(A)\n",
    "print(torch.allclose(a, b))"
   ]
  },
  {
   "cell_type": "markdown",
   "id": "10df840a-1efc-4c8f-94a2-a127c718e2ad",
   "metadata": {},
   "source": [
    "### The determinant\n",
    "\n",
    "* The determinant of a square matrix $\\boldsymbol{A} \\in \\mathbb{E}^{n \\times n}$, is a function that maps matrices to real scalars\n",
    "$$\\det (\\boldsymbol{A}) := \\mathbb{R}^{n \\times n} \\rightarrow \\mathbb{R}$$\n",
    "\n",
    "Definition\n",
    "$$\\det (\\boldsymbol{A}) := \\sum_{\\sigma \\in S_{n}}\n",
    "\\left( \\mathrm{sgn}(\\sigma) \\prod_{i=1}^{n} a_{i, \\sigma_{i}} \\right)$$\n",
    "\n",
    "Properties of the determinant\n",
    "* $|\\boldsymbol{I}_{n}| = 1$\n",
    "* $| a_{1}, \\ldots, c a_{i}, \\ldots, a_{n} | = c| a_{1}, \\ldots, a_{i}, \\ldots, a_{n} |$\n",
    "* $| c \\boldsymbol{A} | = c^{n} | \\boldsymbol{A}|$\n",
    "* $| a_{1}, \\ldots, a_{j}, \\ldots, a_{i}, \\ldots, a_{n} |\n",
    "= -| a_{1}, \\ldots, a_{i}, \\ldots, a_{j}, \\ldots, a_{n} |$\n",
    "* $|\\boldsymbol{A}^{\\top}| = |\\boldsymbol{A}|$\n",
    "* $|\\boldsymbol{A} \\boldsymbol{B}| = |\\boldsymbol{A}| |\\boldsymbol{B}|$\n",
    "* $|\\boldsymbol{A}^{-1}| = 1/|\\boldsymbol{A}|$"
   ]
  },
  {
   "cell_type": "code",
   "execution_count": null,
   "id": "b606f79d-3d39-413c-b172-8ea8ed1af629",
   "metadata": {},
   "outputs": [],
   "source": [
    "# the deteminant of identity matrix\n",
    "n = 5\n",
    "I = torch.eye(n)\n",
    "print(f'the deteminant of identity matrix: {torch.det(I)}')"
   ]
  },
  {
   "cell_type": "code",
   "execution_count": null,
   "id": "d38a9137-1a56-422a-b4a7-e37e2fcecf6f",
   "metadata": {},
   "outputs": [],
   "source": [
    "# the deteminant of multiply a single column by a scalar c\n",
    "torch.manual_seed(219)\n",
    "n = 2\n",
    "specific_column = 2  # must be less than n\n",
    "c = 3\n",
    "\n",
    "A = torch.randn(n, n)\n",
    "det_A = torch.det(A)\n",
    "B = deepcopy(A)\n",
    "B[:, specific_column] = B[:, specific_column] * c\n",
    "# B = A * c\n",
    "det_AA = torch.det(B)\n",
    "\n",
    "print(f'det A: {det_A:.4f}')\n",
    "print(f'det (A after multipy c in a one column): {det_AA:.4f}')\n",
    "print(f'c * det A: {c * det_A:.4f}')\n",
    "# print(f'c^{n} * det A: {np.power(c, n) * det_A:.4f}')"
   ]
  },
  {
   "cell_type": "code",
   "execution_count": null,
   "id": "7cd7b13b-0943-482a-8e95-7b52831d9958",
   "metadata": {},
   "outputs": [],
   "source": [
    "# the deteminant of interchanging any pair of columns\n",
    "torch.manual_seed(219)\n",
    "n = 5\n",
    "i, j = 1, 4\n",
    "\n",
    "A = torch.randn(n, n)\n",
    "det_A = torch.det(A)\n",
    "B = deepcopy(A)\n",
    "B[:, i] = A[:, j]\n",
    "B[:, j] = A[:, i]\n",
    "det_AA = torch.det(B)\n",
    "\n",
    "print(f'det A: {det_A:.4f}')\n",
    "print(f'det (A after interchanging any pari of columns): {det_AA:.4f}')"
   ]
  },
  {
   "cell_type": "code",
   "execution_count": null,
   "id": "810ee321-946f-46f3-af30-1eebaed910f4",
   "metadata": {},
   "outputs": [],
   "source": [
    "# the determinant of transpose matrix\n",
    "torch.manual_seed(219)\n",
    "n = 5\n",
    "A = torch.randn(n, n)\n",
    "det_A = torch.det(A)\n",
    "det_A_T = torch.det(A.T)\n",
    "print(f'det A: {det_A:.4f}')\n",
    "print(f'det A.T: {det_A_T:.4f}')"
   ]
  },
  {
   "cell_type": "code",
   "execution_count": null,
   "id": "feb7dffd-c42a-4218-a31a-2794b1351e14",
   "metadata": {},
   "outputs": [],
   "source": [
    "# the determinant of multiplication of two matrices\n",
    "torch.manual_seed(219)\n",
    "n = 5\n",
    "A = torch.randn(n, n)\n",
    "B = torch.randn(n, n)\n",
    "det_A = torch.det(A)\n",
    "det_B = torch.det(B)\n",
    "det_AB = torch.det(torch.matmul(A, B))\n",
    "print(f'det AB: {det_AB:.4f}')\n",
    "print(f'det A x det B: {det_A * det_B:.4f}')"
   ]
  },
  {
   "cell_type": "code",
   "execution_count": null,
   "id": "3f99ca95-7540-48bb-81b5-781a92ac9ecf",
   "metadata": {},
   "outputs": [],
   "source": [
    "# the determinant of a inverse matrix\n",
    "torch.manual_seed(219)\n",
    "n = 5\n",
    "A = torch.randn(n, n)\n",
    "det_A = torch.det(A)\n",
    "det_A_inv = torch.det(torch.inverse(A))\n",
    "print(f'det A: {det_A:.4f}')\n",
    "print(f'det A_inv: {det_A_inv:.4f}')\n",
    "print(f'1 / (det A): {1 / det_A:.4f}')"
   ]
  },
  {
   "cell_type": "markdown",
   "id": "73cc77e2-e3a7-40e1-8bbc-a68b4789a288",
   "metadata": {},
   "source": [
    "## Solving Systems of Linear Equations\n",
    "\n",
    "* $\\boldsymbol{A} \\boldsymbol{x} = \\boldsymbol{b} = \\boldsymbol{0}$\n",
    "* if $\\boldsymbol{A}^{-1}$ exists\n",
    "  * solution: $\\boldsymbol{x} = \\boldsymbol{A}^{-1} \\boldsymbol{b}$\n",
    "  \n",
    "proof)\n",
    "$$\\boldsymbol{A} \\boldsymbol{x} = \\boldsymbol{b} \\\\\n",
    "\\boldsymbol{A}^{-1} \\boldsymbol{A} \\boldsymbol{x} = \\boldsymbol{A}^{-1} \\boldsymbol{b} \\\\\n",
    "\\boldsymbol{I}_{n} \\boldsymbol{x} = \\boldsymbol{A}^{-1} \\boldsymbol{b} \\\\\n",
    "\\boldsymbol{x} = \\boldsymbol{A}^{-1} \\boldsymbol{b}$$"
   ]
  },
  {
   "cell_type": "markdown",
   "id": "e44d8c09-bd23-428f-97d5-b7134af9f0df",
   "metadata": {},
   "source": [
    "example1)\n",
    "$$\n",
    "\\begin{array}{l}\n",
    "4 x_{1} + 4 x_{2} = 5 \\\\\n",
    "2 x_{1} - 4 x_{2} = 1\n",
    "\\end{array}\n",
    "\\implies\n",
    "\\boldsymbol{A} =\n",
    "\\left[ \\begin{array}{cc}\n",
    "4 & 4 \\\\\n",
    "2 & -4\n",
    "\\end{array} \\right],\n",
    "\\boldsymbol{b} =\n",
    "\\left[ \\begin{array}{c}\n",
    "5 \\\\\n",
    "1\n",
    "\\end{array} \\right]\n",
    "$$\n",
    "$$\n",
    "\\boldsymbol{x} = \\boldsymbol{A}^{-1} \\boldsymbol{b} =\n",
    "\\left[ \\begin{array}{c}\n",
    "1 \\\\\n",
    "1/4\n",
    "\\end{array} \\right]\n",
    "$$"
   ]
  },
  {
   "cell_type": "code",
   "execution_count": null,
   "id": "8f409337-eeca-41ff-9ccf-8df005e1fca9",
   "metadata": {},
   "outputs": [],
   "source": [
    "A = torch.tensor([ [4, 4],\n",
    "                   [2, -4] ], dtype=torch.float32)\n",
    "b = torch.tensor([5, 1], dtype=torch.float32)"
   ]
  },
  {
   "cell_type": "code",
   "execution_count": null,
   "id": "66efed9e-875e-4617-ae82-2e6405e91cb2",
   "metadata": {},
   "outputs": [],
   "source": [
    "x = torch.matmul(A.inverse(), b)\n",
    "print(f'solution x: {x}')"
   ]
  },
  {
   "cell_type": "markdown",
   "id": "27ac360a-e28a-401d-a20a-a5f97c624a7c",
   "metadata": {},
   "source": [
    "example2)\n",
    "$$\n",
    "\\begin{array}{l}\n",
    "2 x_{1} + 4 x_{2} = 1 \\\\\n",
    "- x_{1} + 5 x_{2} = 3\n",
    "\\end{array}\n",
    "\\implies\n",
    "\\boldsymbol{A} =\n",
    "\\left[ \\begin{array}{cc}\n",
    "2 & 4 \\\\\n",
    "-1 & 5\n",
    "\\end{array} \\right],\n",
    "\\boldsymbol{b} =\n",
    "\\left[ \\begin{array}{c}\n",
    "1 \\\\\n",
    "3\n",
    "\\end{array} \\right]\n",
    "$$\n",
    "$$\n",
    "\\boldsymbol{x} = \\boldsymbol{A}^{-1} \\boldsymbol{b} =\n",
    "\\left[ \\begin{array}{c}\n",
    "-1/2 \\\\\n",
    "1/2\n",
    "\\end{array} \\right]\n",
    "$$"
   ]
  },
  {
   "cell_type": "code",
   "execution_count": null,
   "id": "64ce2f72-f77d-4dab-b241-100b06e9ae25",
   "metadata": {},
   "outputs": [],
   "source": [
    "A = torch.tensor([ [2, 4],\n",
    "                   [-1, 5] ], dtype=torch.float32)\n",
    "b = torch.tensor([1, 3], dtype=torch.float32)"
   ]
  },
  {
   "cell_type": "code",
   "execution_count": null,
   "id": "ec63d9b5-4cae-4df2-abff-1f0a5d276e8c",
   "metadata": {},
   "outputs": [],
   "source": [
    "x = torch.matmul(A.inverse(), b)\n",
    "print(f'solution x: {x}')"
   ]
  },
  {
   "cell_type": "markdown",
   "id": "629d8e59-cb94-4bff-87f9-1e5f0a816d2e",
   "metadata": {},
   "source": [
    "example3)\n",
    "$$\n",
    "\\begin{array}{l}\n",
    "6 x_{1} + 2 x_{2} = 2 \\\\\n",
    "3 x_{1} + x_{2} = 3\n",
    "\\end{array}\n",
    "\\implies\n",
    "\\boldsymbol{A} =\n",
    "\\left[ \\begin{array}{cc}\n",
    "6 & 2 \\\\\n",
    "3 & 1\n",
    "\\end{array} \\right],\n",
    "\\boldsymbol{b} =\n",
    "\\left[ \\begin{array}{c}\n",
    "2 \\\\\n",
    "3\n",
    "\\end{array} \\right]\n",
    "$$\n",
    "$$\n",
    "\\boldsymbol{x} = \\boldsymbol{A}^{-1} \\boldsymbol{b} ?\n",
    "$$"
   ]
  },
  {
   "cell_type": "code",
   "execution_count": null,
   "id": "b73d5f2f-94eb-482f-812b-c598b7650c68",
   "metadata": {},
   "outputs": [],
   "source": [
    "A = torch.tensor([ [6, 2],\n",
    "                   [3, 1] ], dtype=torch.float32)\n",
    "b = torch.tensor([2, 3], dtype=torch.float32)"
   ]
  },
  {
   "cell_type": "code",
   "execution_count": null,
   "id": "33020524-c970-40fe-a55a-495a4b1081db",
   "metadata": {},
   "outputs": [],
   "source": [
    "x = torch.matmul(A.inverse(), b)\n",
    "print(f'solution x: {x}')"
   ]
  },
  {
   "cell_type": "markdown",
   "id": "1d005c6f-3e56-4e27-9438-de27c23be695",
   "metadata": {},
   "source": [
    "example4)\n",
    "$$\n",
    "\\begin{array}{l}\n",
    "6 x_{1} + 2 x_{2} = 2 \\\\\n",
    "3 x_{1} + x_{2} = 1\n",
    "\\end{array}\n",
    "\\implies\n",
    "\\boldsymbol{A} =\n",
    "\\left[ \\begin{array}{cc}\n",
    "6 & 2 \\\\\n",
    "3 & 1\n",
    "\\end{array} \\right],\n",
    "\\boldsymbol{b} =\n",
    "\\left[ \\begin{array}{c}\n",
    "2 \\\\\n",
    "1\n",
    "\\end{array} \\right]\n",
    "$$\n",
    "$$\n",
    "\\boldsymbol{x} = \\boldsymbol{A}^{-1} \\boldsymbol{b} ?\n",
    "$$"
   ]
  },
  {
   "cell_type": "markdown",
   "id": "7acf61a3-13d7-4054-b005-2c96ee393e69",
   "metadata": {},
   "source": [
    "## Basic Operations of Matrices VII\n",
    "### Trace\n",
    "\n",
    "The trace of a square matrix $\\boldsymbol{A} \\in \\mathbb{R}^{n \\times n}$ is defined as\n",
    "$$\\mathrm{tr}(\\boldsymbol{A}) := \\sum_{i=1}^{n} a_{ii}\n",
    "= a_{11} + a_{22} + \\cdots + a_{nn}$$\n",
    "\n",
    "Properties\n",
    "* $\\mathrm{tr} ( \\boldsymbol{A} ) = \\mathrm{tr} ( \\boldsymbol{A}^{\\top} )$\n",
    "* $\\mathrm{tr} ( \\boldsymbol{A} + \\boldsymbol{B} ) = \\mathrm{tr} ( \\boldsymbol{A} ) + \\mathrm{tr} ( \\boldsymbol{B} )$\n",
    "* $\\mathrm{tr} ( c \\boldsymbol{A} ) = c \\, \\mathrm{tr} ( \\boldsymbol{A} )$, where $c \\in \\mathbb{R}$\n",
    "* For $\\boldsymbol{A} \\in \\mathbb{R}^{m \\times n}, \\ \\boldsymbol{B} \\in \\mathbb{R}^{n \\times m}$, \n",
    "$$\\mathrm{tr} ( \\underbrace{\\boldsymbol{A} \\boldsymbol{B}}_{\\in \\mathbb{R}^{m \\times m}} )\n",
    "= \\mathrm{tr} ( \\underbrace{\\boldsymbol{B} \\boldsymbol{A}}_{\\in \\mathbb{R}^{n \\times n}} )\n",
    "= \\sum_{i=1}^{m} \\sum_{j=1}^{n} a_{ij} b_{ji}$$"
   ]
  },
  {
   "cell_type": "code",
   "execution_count": null,
   "id": "2d4b2457-5e02-4b90-a003-a25f3963edde",
   "metadata": {},
   "outputs": [],
   "source": [
    "A = torch.tensor([ [2, 3],\n",
    "                   [4, 6] ])\n",
    "tr = torch.trace(A)\n",
    "print(f'trace of A: {tr}')"
   ]
  },
  {
   "cell_type": "code",
   "execution_count": null,
   "id": "dba766e8-1c62-4e9f-abbb-a39a2efcd28c",
   "metadata": {},
   "outputs": [],
   "source": [
    "# trace of a transpose matrix\n",
    "torch.manual_seed(219)\n",
    "n = 4\n",
    "A = torch.randn(n, n)\n",
    "tr = torch.trace(A)\n",
    "tr_T = torch.trace(A.T)\n",
    "print(f'trace of A: {tr:.4f}')\n",
    "print(f'trace of A.T: {tr_T:.4f}')"
   ]
  },
  {
   "cell_type": "code",
   "execution_count": null,
   "id": "2c52837d-4757-475f-9606-2e2757a9048a",
   "metadata": {},
   "outputs": [],
   "source": [
    "# trace of A + B\n",
    "torch.manual_seed(219)\n",
    "n = 4\n",
    "A = torch.randn(n, n)\n",
    "B = torch.randn(n, n)\n",
    "tr_A = torch.trace(A)\n",
    "tr_B = torch.trace(B)\n",
    "tr_AB = torch.trace(A + B)\n",
    "print(f'trace of A + B: {tr_AB:.4f}')\n",
    "print(f'trace of A + trace of B: {tr_A + tr_B:.4f}')"
   ]
  },
  {
   "cell_type": "code",
   "execution_count": null,
   "id": "380fc417-62b6-4bb8-9850-c5945c68d053",
   "metadata": {},
   "outputs": [],
   "source": [
    "# trace of scalar multiplication cA\n",
    "torch.manual_seed(219)\n",
    "n = 4\n",
    "c = 3\n",
    "A = torch.randn(n, n)\n",
    "tr_A = torch.trace(A)\n",
    "tr_cA = torch.trace(c * A)\n",
    "print(f'trace of cA: {tr_cA:.4f}')\n",
    "print(f'trace of A x scalar c: {tr_A * c:.4f}')"
   ]
  },
  {
   "cell_type": "code",
   "execution_count": null,
   "id": "ca106de2-3e12-4005-a524-a47b9d770599",
   "metadata": {},
   "outputs": [],
   "source": [
    "# trace of matrix multiplication AB and BA\n",
    "torch.manual_seed(219)\n",
    "n = 4\n",
    "A = torch.randn(n, n)\n",
    "B = torch.randn(n, n)\n",
    "tr_AB = torch.trace(torch.matmul(A, B))\n",
    "tr_BA = torch.trace(torch.matmul(B, A))\n",
    "print(f'trace of AB: {tr_AB:.4f}')\n",
    "print(f'trace of BA: {tr_BA:.4f}')"
   ]
  },
  {
   "cell_type": "markdown",
   "id": "82bfb738-e79f-434e-a79b-7ef1d6c0ddcb",
   "metadata": {},
   "source": [
    "## Basic Operations of Matrices VIII\n",
    "### Orthogonal matrix\n",
    "\n",
    "* A square matrix $\\boldsymbol{A} \\in \\mathbb{R}^{n \\times n}$ whose rows (and columns) are mutually orthonormal\n",
    "$$\\boldsymbol{A}^{\\top} \\boldsymbol{A} = \\boldsymbol{A} \\boldsymbol{A}^{\\top} = \\boldsymbol{I}_{n}$$\n",
    "\n",
    "Properties\n",
    "* $\\boldsymbol{A}^{-1} = \\boldsymbol{A}^{\\top}$\n",
    "\n",
    "Examples of orthogonal matrix\n",
    "\n",
    "<img width=\"600\" alt=\"git fig4\" src=\"https://user-images.githubusercontent.com/11681225/184408353-e86a7950-26b2-4855-a7d6-921588ec6531.png\">"
   ]
  },
  {
   "cell_type": "code",
   "execution_count": null,
   "id": "ad29e928-c8f2-41d2-89ef-e4f1c7944f61",
   "metadata": {},
   "outputs": [],
   "source": [
    "# reflection across x-axis\n",
    "A = torch.tensor([ [1, 0],\n",
    "                   [0, -1] ])  #, dtype=torch.float32)\n",
    "A_T_A = torch.matmul(A.T, A)\n",
    "print(A_T_A)"
   ]
  },
  {
   "cell_type": "code",
   "execution_count": null,
   "id": "f3681168-bac0-4317-8595-c7013bc4af86",
   "metadata": {},
   "outputs": [],
   "source": [
    "# rotation across origin\n",
    "theta = np.pi / 3  # 60 degrees\n",
    "A = torch.tensor([ [np.cos(theta), -np.sin(theta)],\n",
    "                   [np.sin(theta), np.cos(theta)] ], dtype=torch.float32)\n",
    "A_T_A = torch.matmul(A.T, A)\n",
    "print(A_T_A)"
   ]
  },
  {
   "cell_type": "code",
   "execution_count": null,
   "id": "6bf22318-c08e-4a74-9776-5bb3e735f2b8",
   "metadata": {},
   "outputs": [],
   "source": [
    "# permutation of coordinate axes\n",
    "A = torch.tensor([ [0, 0, 1, 0],\n",
    "                   [0, 0, 0, 1],\n",
    "                   [1, 0, 0, 0],\n",
    "                   [0, 1, 0, 0] ])  #, dtype=torch.float32)\n",
    "A_T_A = torch.matmul(A.T, A)\n",
    "print(A_T_A)"
   ]
  },
  {
   "cell_type": "markdown",
   "id": "692591b6-1d9c-4330-bc6a-933204229c4c",
   "metadata": {},
   "source": [
    "# Matrix Decompositions\n",
    "## Eigenvalues and Eigenvectors\n",
    "\n",
    "* Given a square matrix $\\boldsymbol{A} \\in \\mathbb{E}^{n \\times n}$\n",
    "$$\\boldsymbol{A} \\boldsymbol{x} = \\lambda \\boldsymbol{x}, \\quad \\boldsymbol{x} \\neq \\boldsymbol{0}$$\n",
    "* eigenvalues: $\\lambda \\in \\mathbb{C}$\n",
    "* corresponding eigenvectors: $\\boldsymbol{x} \\in \\mathbb{R}\\setminus \\{ 0 \\}$\n",
    "\n",
    "Example\n",
    "$$\\boldsymbol{A} = \\left[ \\begin{array}{cc}\n",
    "5 & -6 \\\\\n",
    "2 & -2\n",
    "\\end{array} \\right]$$\n",
    "* eigenvalues: $\\lambda_{1} = 2, \\ \\lambda_{2} = 1$\n",
    "* eigenvectors:\n",
    "$$\\boldsymbol{x}_{1} = \\frac{1}{\\sqrt{5}} \\left[ \\begin{array}{c}\n",
    "2 \\\\\n",
    "1\n",
    "\\end{array} \\right]\n",
    "\\quad\n",
    "\\boldsymbol{x}_{2} = \\frac{1}{\\sqrt{13}} \\left[ \\begin{array}{c}\n",
    "3 \\\\\n",
    "2\n",
    "\\end{array} \\right]$$"
   ]
  },
  {
   "cell_type": "code",
   "execution_count": null,
   "id": "1534275a-7a76-4782-8ba7-47c0ad5b044d",
   "metadata": {},
   "outputs": [],
   "source": [
    "np.random.seed(219)\n",
    "np.set_printoptions(precision=4)\n",
    "\n",
    "A = np.random.normal(size=(3, 3))\n",
    "# A = np.array([[5, -6], [2, -2]], dtype=np.float32)\n",
    "# A = torch.tensor(A, dtype=torch.float32)\n",
    "# A = torch.tensor([[5, -6], [2, -2]], dtype=torch.float64)"
   ]
  },
  {
   "cell_type": "code",
   "execution_count": null,
   "id": "58b24e68-0ba1-4c89-b4dd-fe5db888be03",
   "metadata": {},
   "outputs": [],
   "source": [
    "# eigendecomposition\n",
    "L, V = np.linalg.eig(A)\n",
    "# L, V = torch.linalg.eig(A)"
   ]
  },
  {
   "cell_type": "code",
   "execution_count": null,
   "id": "5f098f07-7515-4063-bb24-b838e63a83fa",
   "metadata": {},
   "outputs": [],
   "source": [
    "L"
   ]
  },
  {
   "cell_type": "code",
   "execution_count": null,
   "id": "2ab85473-efe6-4e43-8d26-41eaaac2bfcc",
   "metadata": {},
   "outputs": [],
   "source": [
    "V"
   ]
  },
  {
   "cell_type": "markdown",
   "id": "b53edd4e-de96-44d0-8d9e-4de06165dafd",
   "metadata": {},
   "source": [
    "### Graphical intuition in two dimensions"
   ]
  },
  {
   "cell_type": "code",
   "execution_count": null,
   "id": "14fca3ae-7cb6-4a26-b9ab-03148fe4b63c",
   "metadata": {},
   "outputs": [],
   "source": [
    "def mesh_plot(X, Y, xlim=2, ylim=2):\n",
    "  fig = plt.figure()\n",
    "  ax = fig.add_subplot(111)\n",
    "  plt.plot(X, Y, ls='None', marker='.')\n",
    "  plt.xlim(-xlim, xlim)\n",
    "  plt.ylim(-ylim, ylim)\n",
    "  plt.axvline(x=0, color='black')\n",
    "  plt.axhline(y=0, color='black')\n",
    "  ax.set_aspect('equal', adjustable='box')\n",
    "  plt.show()"
   ]
  },
  {
   "cell_type": "code",
   "execution_count": null,
   "id": "77546949-3d8e-4cf7-9756-95de6c064491",
   "metadata": {},
   "outputs": [],
   "source": [
    "n = 21\n",
    "x = np.linspace(-1, 1, n)\n",
    "y = np.linspace(-1, 1, n)\n",
    "# full coordinate arrays\n",
    "X, Y = np.meshgrid(x, y)\n",
    "mesh_plot(X, Y)"
   ]
  },
  {
   "cell_type": "code",
   "execution_count": null,
   "id": "021ef36a-58b3-463e-a419-6274bbbe501c",
   "metadata": {},
   "outputs": [],
   "source": [
    "def linear_transformation(A, X, Y):\n",
    "  from copy import deepcopy\n",
    "  XX, YY = deepcopy(X), deepcopy(Y)\n",
    "  for i in range(n):\n",
    "    for j in range(n):\n",
    "      xx = np.array([[X[i, j]], [Y[i, j]]])\n",
    "      res = np.matmul(A, xx)\n",
    "      XX[i, j] = res[0][0]\n",
    "      YY[i, j] = res[1][0]\n",
    "  return XX, YY"
   ]
  },
  {
   "cell_type": "markdown",
   "id": "f0890921-eef2-4dcc-af56-f1257b38f71b",
   "metadata": {},
   "source": [
    "Example1\n",
    "\n",
    "<img width=\"600\" alt=\"git fig1\" src=\"https://user-images.githubusercontent.com/11681225/184524938-01fa0126-2cce-4846-aec6-889af0edbff9.png\">"
   ]
  },
  {
   "cell_type": "code",
   "execution_count": null,
   "id": "8f7256b3-2721-4bc2-b2b3-0ead74666a0a",
   "metadata": {},
   "outputs": [],
   "source": [
    "A = np.array([ [0.5, 0],\n",
    "               [0, 2.] ])\n",
    "L, V = np.linalg.eig(A)\n",
    "print(f'The eigenvalues of a matrix A: {L}')\n",
    "print(f'The eigenvectors of a matrix A:\\n{V}')\n",
    "XX, YY = linear_transformation(A, X, Y)\n",
    "mesh_plot(XX, YY, 3, 3)"
   ]
  },
  {
   "cell_type": "markdown",
   "id": "814af969-8e10-41b2-8286-a4ce356be820",
   "metadata": {},
   "source": [
    "Example2\n",
    "\n",
    "<img width=\"600\" alt=\"git fig2\" src=\"https://user-images.githubusercontent.com/11681225/184524922-cd9d123e-d974-4fd5-b6e4-c991a9ee63b7.png\">"
   ]
  },
  {
   "cell_type": "code",
   "execution_count": null,
   "id": "548dbb6c-f040-4b9c-a382-c63a975912ef",
   "metadata": {},
   "outputs": [],
   "source": [
    "A = np.array([ [1, 0.5],\n",
    "               [0, 1.] ])\n",
    "L, V = np.linalg.eig(A)\n",
    "print(f'The eigenvalues of a matrix A: {L}')\n",
    "print(f'The eigenvectors of a matrix A:\\n{V}')\n",
    "XX, YY = linear_transformation(A, X, Y)\n",
    "mesh_plot(XX, YY, 3, 3)"
   ]
  },
  {
   "cell_type": "markdown",
   "id": "ab11bbd9-e51f-4bf0-85e7-2c71fa7361a3",
   "metadata": {},
   "source": [
    "Example3\n",
    "\n",
    "<img width=\"600\" alt=\"git fig3\" src=\"https://user-images.githubusercontent.com/11681225/184784993-d689071e-88fd-41ae-b1ab-c2ad4e88a4aa.png\">"
   ]
  },
  {
   "cell_type": "code",
   "execution_count": null,
   "id": "134fe89b-1dcf-4c2f-ad8a-5b52169ee580",
   "metadata": {},
   "outputs": [],
   "source": [
    "A = np.array([ [np.cos(np.pi/6), -np.sin(np.pi/6)],\n",
    "               [np.sin(np.pi/6), np.cos(np.pi/6)] ])\n",
    "L, V = np.linalg.eig(A)\n",
    "print(f'The eigenvalues of a matrix A: {L}')\n",
    "print(f'The eigenvectors of a matrix A:\\n{V}')\n",
    "XX, YY = linear_transformation(A, X, Y)\n",
    "mesh_plot(XX, YY)"
   ]
  },
  {
   "cell_type": "markdown",
   "id": "3e93ee71-c263-4d3b-8790-9c3b6b775f5b",
   "metadata": {},
   "source": [
    "Example4\n",
    "\n",
    "<img width=\"600\" alt=\"git fig4\" src=\"https://user-images.githubusercontent.com/11681225/184524925-41e7ec7b-74ab-4652-b5e7-b49350c4c6cb.png\">"
   ]
  },
  {
   "cell_type": "code",
   "execution_count": null,
   "id": "5543bcf3-c269-4cdd-8f06-7e22781b7b93",
   "metadata": {},
   "outputs": [],
   "source": [
    "A = np.array([ [1, -1],\n",
    "               [-1, 1] ])\n",
    "L, V = np.linalg.eig(A)\n",
    "print(f'The eigenvalues of a matrix A: {L}')\n",
    "print(f'The eigenvectors of a matrix A:\\n{V}')\n",
    "XX, YY = linear_transformation(A, X, Y)\n",
    "mesh_plot(XX, YY)"
   ]
  },
  {
   "cell_type": "markdown",
   "id": "6a5e51f0-d39e-4d0f-aa92-2a1764745841",
   "metadata": {},
   "source": [
    "Example5\n",
    "\n",
    "<img width=\"600\" alt=\"git fig5\" src=\"https://user-images.githubusercontent.com/11681225/184152969-70500d15-21c4-4f08-9a5c-79eb2fe457c0.png\">"
   ]
  },
  {
   "cell_type": "code",
   "execution_count": null,
   "id": "3cbf21af-eac6-44a8-8475-3103f617e6d7",
   "metadata": {},
   "outputs": [],
   "source": [
    "A = np.array([ [1, 0.5],\n",
    "               [0.5, 1] ])\n",
    "L, V = np.linalg.eig(A)\n",
    "print(f'The eigenvalues of a matrix A: {L}')\n",
    "print(f'The eigenvectors of a matrix A:\\n{V}')\n",
    "XX, YY = linear_transformation(A, X, Y)\n",
    "mesh_plot(XX, YY)"
   ]
  },
  {
   "cell_type": "code",
   "execution_count": null,
   "id": "a256e65b-e840-4ac4-b88a-1ea6a12fd212",
   "metadata": {},
   "outputs": [],
   "source": [
    "# A = np.random.uniform(size=(2, 2))\n",
    "A = np.random.normal(size=(2, 2))\n",
    "L, V = np.linalg.eig(A)\n",
    "print(f'The eigenvalues of a matrix A: {L}')\n",
    "print(f'The eigenvectors of a matrix A:\\n{V}')\n",
    "XX, YY = linear_transformation(A, X, Y)\n",
    "mesh_plot(XX, YY, 3, 3)"
   ]
  },
  {
   "cell_type": "markdown",
   "id": "6bad758f-420f-4f92-9ce7-110f45bc6418",
   "metadata": {},
   "source": [
    "### Properties of Eigenvalues and Eigenvectors\n",
    "\n",
    "* The eigenvalues of a triangular matrix are the entries on its main diagonal\n",
    "* A matrix $\\boldsymbol{A}$ and its transpose $\\boldsymbol{A}^{\\top}$ possess the same eigenvalues, but not necessarily the same eigenvectors\n",
    "* The eigenvectors $\\boldsymbol{x}_{1}, \\ldots, \\boldsymbol{x}_{n}$ of a matrix $\\boldsymbol{A} \\in \\mathbb{R}^{n \\times n}$ with $n$ distinct eigenvalues $\\lambda_{1}, \\ldots, \\lambda_{n}$ are linearly independent\n",
    "* The **trace** of a matrix $\\boldsymbol{A} \\in \\mathbb{R}^{n \\times n}$ is the *sum* of its eigenvalues\n",
    "$$\\mathrm{tr}(\\boldsymbol{A}) = \\sum_{i=1}^{n} \\lambda_{i}$$\n",
    "* The **determinant** of a matrix $\\boldsymbol{A} \\in \\mathbb{R}^{n \\times n}$ is the *product* of its eigenvalues\n",
    "$$\\det(\\boldsymbol{A}) = \\prod_{i=1}^{n} \\lambda_{i}$$"
   ]
  },
  {
   "cell_type": "code",
   "execution_count": null,
   "id": "b1880065-88ad-4b16-a16f-d50f98040311",
   "metadata": {},
   "outputs": [],
   "source": [
    "torch.manual_seed(219)\n",
    "A = torch.rand(3, 3)\n",
    "A = (A + A.T) / 2  # symmetric matrix\n",
    "\n",
    "L, V = torch.linalg.eig(A)\n",
    "L1, V1 = torch.linalg.eig(A.T)"
   ]
  },
  {
   "cell_type": "code",
   "execution_count": null,
   "id": "c90108b7-f668-4a99-9216-317ac3c93ba6",
   "metadata": {},
   "outputs": [],
   "source": [
    "# eigenvalues of A == # eigenvalues of A.T\n",
    "print(f'Are eigenvalus real part the same: {torch.allclose(L1.real, L.real)}')\n",
    "print(f'Are eigenvalus imaginary part the same: {torch.allclose(L1.imag, L.imag)}')"
   ]
  },
  {
   "cell_type": "code",
   "execution_count": null,
   "id": "91adf112-39da-4249-a605-f4b1d5ac4c45",
   "metadata": {},
   "outputs": [],
   "source": [
    "# trace == sum of eigenvalues\n",
    "torch.allclose(L.sum().real, torch.trace(A))"
   ]
  },
  {
   "cell_type": "code",
   "execution_count": null,
   "id": "7400882b-d8a8-4214-9152-47e345fc317d",
   "metadata": {},
   "outputs": [],
   "source": [
    "# determinant == prod of eigenvalues\n",
    "torch.allclose(L.prod().real, torch.det(A))"
   ]
  },
  {
   "cell_type": "markdown",
   "id": "6711e24f-4b16-48ac-8281-1dfba438716d",
   "metadata": {},
   "source": [
    "### Eigendecomposition\n",
    "\n",
    "* Let a matrix $\\boldsymbol{A} \\in \\mathbb{R}^{n \\times n}$ has $n$ linearly independent eigenvectors $\\boldsymbol{v}_{1}, \\ldots, \\boldsymbol{v}_{n}$ with corresponding eigenvalues $\\lambda_{1}, \\ldots, \\lambda_{n}$\n",
    "* Let a matrix $\\boldsymbol{V} = [\\boldsymbol{v}_{1}, \\ldots, \\boldsymbol{v}_{n}] \\in \\mathbb{R}^{n \\times n}$: concatenated all the eigenvectors as the columns of $V$\n",
    "* Let a diagonal matrix $\\boldsymbol{\\Lambda} = \\mathrm{diag} (\\lambda_{1}, \\ldots, \\lambda_{n})$\n",
    "\n",
    "$$\\boldsymbol{A} = \\boldsymbol{V} \\boldsymbol{\\Lambda} \\boldsymbol{V}^{-1}$$\n",
    "* Note that only diagonalizable matrices can be factorized in this way"
   ]
  },
  {
   "cell_type": "code",
   "execution_count": null,
   "id": "596ef0f8-695c-4235-9d29-0a957214ac11",
   "metadata": {},
   "outputs": [],
   "source": [
    "np.random.seed(219)\n",
    "np.set_printoptions(precision=4)\n",
    "A = np.random.normal(size=(3, 3))\n",
    "L, V = np.linalg.eig(A)\n",
    "print(f'The eigenvalues of a matrix A: {L}')\n",
    "print(f'The eigenvectors of a matrix A:\\n{V}')"
   ]
  },
  {
   "cell_type": "code",
   "execution_count": null,
   "id": "355e0069-057c-4744-adea-2266eb89e012",
   "metadata": {},
   "outputs": [],
   "source": [
    "# eigendecomposition\n",
    "Lambda = np.diag(L)\n",
    "np.allclose(V @ Lambda @ np.linalg.inv(V), A)"
   ]
  },
  {
   "cell_type": "code",
   "execution_count": null,
   "id": "29f26696-6726-40c8-80b3-5dab00b7a96c",
   "metadata": {},
   "outputs": [],
   "source": [
    "# degenerate eigenvalues case\n",
    "A = np.array([ [1, 0.5],\n",
    "               [0, 1.] ])\n",
    "L, V = np.linalg.eig(A)\n",
    "Lambda = np.diag(L)\n",
    "np.allclose(V @ Lambda @ np.linalg.inv(V), A)"
   ]
  },
  {
   "cell_type": "markdown",
   "id": "04487c3d-d191-47be-823c-76451f37e158",
   "metadata": {},
   "source": [
    "### Diagonalization of Symmetric Matrices\n",
    "\n",
    "* A square matrix $\\boldsymbol{A} \\in \\mathbb{R}^{n \\times n}$ is said to be orthogonally diagonalizable if there are an orthogonal matrix $\\boldsymbol{Q}$ (with $\\boldsymbol{Q}^{-1} = \\boldsymbol{Q}^{\\top}$) and a diagonal matrix $\\boldsymbol{\\Lambda}$ such that\n",
    "$$\\boldsymbol{A} = \\boldsymbol{Q} \\boldsymbol{\\Lambda} \\boldsymbol{Q}^{\\top} = \\boldsymbol{Q} \\boldsymbol{\\Lambda} \\boldsymbol{Q}^{-1}$$"
   ]
  },
  {
   "cell_type": "code",
   "execution_count": null,
   "id": "169059cd-7588-4a7a-ae3a-5b060ae36b9c",
   "metadata": {},
   "outputs": [],
   "source": [
    "# np.random.seed(219)\n",
    "np.set_printoptions(precision=4)\n",
    "A = np.random.normal(size=(3, 3))\n",
    "A = (A + A.T) / 2  # symmetric matrix\n",
    "L, V = np.linalg.eig(A)\n",
    "print(f'The eigenvalues of a matrix A: {L}')\n",
    "print(f'The eigenvectors of a matrix A:\\n{V}')"
   ]
  },
  {
   "cell_type": "code",
   "execution_count": null,
   "id": "cd498c8b-fe9d-4fe2-8f8d-4a33e9a2c114",
   "metadata": {},
   "outputs": [],
   "source": [
    "# eigendecomposition\n",
    "Lambda = np.diag(L)\n",
    "np.allclose(V @ Lambda @ np.linalg.inv(V), A)"
   ]
  },
  {
   "cell_type": "code",
   "execution_count": null,
   "id": "9550920e-5d97-427f-b7ec-8292e95f4c06",
   "metadata": {},
   "outputs": [],
   "source": [
    "print(f'the inverse of Q and the transpose of Q are the same: {np.allclose(np.linalg.inv(V), V.T)}')"
   ]
  },
  {
   "cell_type": "markdown",
   "id": "1aa5fbce-6eb3-4429-a382-ac983601781d",
   "metadata": {},
   "source": [
    "## Singular Value Decomposition\n",
    "\n",
    "\n",
    "* Let $\\boldsymbol{A} \\in \\mathbb{R}^{m \\times n}$ be a matrix of rank $r \\in [0, \\min (m, n)]$\n",
    "$$\\boldsymbol{A} = \\boldsymbol{U} \\boldsymbol{\\Sigma} \\boldsymbol{V}^{\\top}$$\n",
    "* Orthogonal matrix $\\boldsymbol{U} \\in \\mathbb{R}^{m \\times m}$; left singular vectors of $\\boldsymbol{A}$: columns of $\\boldsymbol{U}$\n",
    "* Orthogonal matrix $\\boldsymbol{V} \\in \\mathbb{R}^{n \\times n}$; right singular vectors of $\\boldsymbol{A}$: columns of $\\boldsymbol{U}$\n",
    "* A singular value matrix $\\boldsymbol{\\Sigma} \\in \\mathbb{R}^{m \\times n}$, diagonal entries of $\\boldsymbol{D} \\in \\mathbb{R}^{r \\times r}$: $\\sigma_{i} = \\boldsymbol{D}_{ii}$\n",
    "* Singular values: $\\sigma_{1} \\geq \\sigma_{2} \\geq \\ldots \\geq \\sigma_{r} > 0$\n",
    "\n",
    "<img width=\"300\" alt=\"svd\" src=\"https://user-images.githubusercontent.com/11681225/184527038-7144131d-d80d-470b-b294-54de3da90f39.png\">"
   ]
  },
  {
   "cell_type": "markdown",
   "id": "37da7f6a-ac1c-4b12-8593-d0c8ae54ff91",
   "metadata": {},
   "source": [
    "Example\n",
    "\n",
    "$$\\boldsymbol{A} = \\left[ \\begin{array}{ccc}\n",
    "1 & 0 & 1 \\\\\n",
    "-2 & 1 & 0\n",
    "\\end{array} \\right]\n",
    "= \\underbrace{\\left[ \\begin{array}{cc}\n",
    "1/\\sqrt{5} & 2/\\sqrt{5} \\\\\n",
    "-2/\\sqrt{5} & 1/\\sqrt{5}\n",
    "\\end{array} \\right]}_{\\boldsymbol{U}}\n",
    "\\underbrace{\\left[ \\begin{array}{ccc}\n",
    "\\sqrt{6} & 0 & 0 \\\\\n",
    "0 & 1 & 0\n",
    "\\end{array} \\right]}_{\\boldsymbol{\\Sigma}}\n",
    "\\underbrace{\\left[ \\begin{array}{ccc}\n",
    "5/\\sqrt{30} & -2\\sqrt{30} & 1/\\sqrt{30} \\\\\n",
    "0 & 1/\\sqrt{5} & 2/\\sqrt{5} \\\\\n",
    "-1/\\sqrt{6} & -2/\\sqrt{6} & 1/\\sqrt{6}\n",
    "\\end{array} \\right]}_{\\boldsymbol{V}^{\\top}}\n",
    "$$"
   ]
  },
  {
   "cell_type": "code",
   "execution_count": null,
   "id": "78a7b66c-dd34-4509-9003-dd09bd6d4194",
   "metadata": {},
   "outputs": [],
   "source": [
    "# singluar value decomposition\n",
    "A = np.array([ [1, 0, 1],\n",
    "               [-2, 1, 0] ])\n",
    "U, S, VT = np.linalg.svd(A)"
   ]
  },
  {
   "cell_type": "code",
   "execution_count": null,
   "id": "05031882-b2fe-4de0-96c9-db77be14a017",
   "metadata": {},
   "outputs": [],
   "source": [
    "S = np.concatenate((np.diag(S), np.array([[0], [0]])), axis=-1)\n",
    "np.allclose(U @ S @ VT, A)"
   ]
  },
  {
   "cell_type": "code",
   "execution_count": null,
   "id": "7b69d40c-663d-47c7-a43b-59a200ee15d0",
   "metadata": {},
   "outputs": [],
   "source": []
  },
  {
   "cell_type": "code",
   "execution_count": null,
   "id": "763241f8-88d9-42df-92a6-2690877cc5e2",
   "metadata": {},
   "outputs": [],
   "source": []
  }
 ],
 "metadata": {
  "kernelspec": {
   "display_name": "Python [conda env:laidd22math]",
   "language": "python",
   "name": "conda-env-laidd22math-py"
  },
  "language_info": {
   "codemirror_mode": {
    "name": "ipython",
    "version": 3
   },
   "file_extension": ".py",
   "mimetype": "text/x-python",
   "name": "python",
   "nbconvert_exporter": "python",
   "pygments_lexer": "ipython3",
   "version": "3.8.13"
  },
  "toc": {
   "base_numbering": 1,
   "nav_menu": {},
   "number_sections": true,
   "sideBar": true,
   "skip_h1_title": false,
   "title_cell": "Table of Contents",
   "title_sidebar": "Contents",
   "toc_cell": false,
   "toc_position": {},
   "toc_section_display": true,
   "toc_window_display": false
  },
  "toc-autonumbering": true,
  "toc-showcode": true,
  "toc-showmarkdowntxt": false
 },
 "nbformat": 4,
 "nbformat_minor": 5
}
